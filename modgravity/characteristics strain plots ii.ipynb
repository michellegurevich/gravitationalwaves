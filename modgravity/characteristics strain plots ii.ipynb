{
 "cells": [
  {
   "cell_type": "markdown",
   "id": "514cb06c",
   "metadata": {},
   "source": [
    "# Fisher analysis"
   ]
  },
  {
   "cell_type": "code",
   "execution_count": 1,
   "id": "46a341a5-8f8e-4842-8b60-c84d28fe23fe",
   "metadata": {},
   "outputs": [],
   "source": [
    "# standard library imports\n",
    "import math\n",
    "import numpy as np\n",
    "# import schnell as snl\n",
    "import matplotlib.pyplot as plt\n",
    "from scipy.integrate import quad\n",
    "from scipy.integrate import simpson as simps\n",
    "from scipy.fft import fft\n",
    "\n",
    "# dependent file imports\n",
    "from fisher_analysis import fisher_analysis\n",
    "\n",
    "from set_cosmology import set_cosmology\n",
    "from distances import distances\n",
    "from waveforms import waveforms"
   ]
  },
  {
   "cell_type": "markdown",
   "id": "cc76cd28",
   "metadata": {},
   "source": [
    "## Define parameters"
   ]
  },
  {
   "cell_type": "code",
   "execution_count": 2,
   "id": "bf78d709-6d30-4fc0-9c8b-83f9a9661d1f",
   "metadata": {},
   "outputs": [],
   "source": [
    "cosmo_params = {\n",
    "    'redshift' : np.linspace(0,4),\n",
    "    'frequency': np.linspace(10**0,10**4),\n",
    "    'f_e' : 1,\n",
    "    't_e' : 1,\n",
    "    't_a' : 2,\n",
    "}\n",
    "phenom_params = {\n",
    "    'A' : 1,\n",
    "    'alpha' : 4,\n",
    "    'lambda_g' : 1.6 * 10 ** 16,\n",
    "}\n",
    "wf_params = {\n",
    "        'approximant': 'TaylorF2',\n",
    "        'mass1': 10,\n",
    "        'mass2': 15,\n",
    "        'delta_f': 1.0 / 170, \n",
    "        'f_lower': 40,\n",
    "}"
   ]
  },
  {
   "cell_type": "code",
   "execution_count": 3,
   "id": "9ae05c89-f827-4492-abab-56baac4bb16b",
   "metadata": {},
   "outputs": [
    {
     "data": {
      "text/plain": [
       "{'A': 1, 'alpha': 4, 'lambda_g': 1.6e+16}"
      ]
     },
     "execution_count": 3,
     "metadata": {},
     "output_type": "execute_result"
    }
   ],
   "source": [
    "fisher = fisher_analysis(cosmo_params, phenom_params, wf_params)\n",
    "fisher.wf.phenom_params"
   ]
  },
  {
   "cell_type": "markdown",
   "id": "ffa041aa",
   "metadata": {},
   "source": [
    "## Retrieve modified signal"
   ]
  },
  {
   "cell_type": "code",
   "execution_count": 4,
   "id": "e04f055d-2240-4c9a-8861-035a5aa21cc9",
   "metadata": {},
   "outputs": [
    {
     "name": "stderr",
     "output_type": "stream",
     "text": [
      "/Users/michellegurevich/Desktop/gravitationalwaves/modgravity/waveforms.py:95: RuntimeWarning: divide by zero encountered in true_divide\n",
      "  return math.sqrt(math.pi / 30) * (self.chirp_mass ** 2 / D_L)\n"
     ]
    }
   ],
   "source": [
    "h_plus, h_cross = fisher.wf.h_modified()"
   ]
  },
  {
   "cell_type": "code",
   "execution_count": 5,
   "id": "68f5cd7d",
   "metadata": {},
   "outputs": [],
   "source": [
    "# arr = [-np.inf]\n",
    "# print(\"\\nTest modified signal array for positive or negative infinity:\", True if any(np.isinf(arr)) else False)"
   ]
  },
  {
   "cell_type": "code",
   "execution_count": 6,
   "id": "3f7fbbf8",
   "metadata": {},
   "outputs": [
    {
     "name": "stdout",
     "output_type": "stream",
     "text": [
      "\n",
      "Test modified signal array for positive or negative infinity: False\n"
     ]
    }
   ],
   "source": [
    "print(\"\\nTest modified signal array for positive or negative infinity:\", True if any(np.isinf(h_plus)) or any(np.isinf(h_cross)) else False)"
   ]
  },
  {
   "cell_type": "code",
   "execution_count": 7,
   "id": "3404f132-9d76-4000-b230-b9ea11049d6f",
   "metadata": {},
   "outputs": [
    {
     "data": {
      "text/plain": [
       "array([ 0.00000000e+00,  8.26907251e-10,  1.67807117e-10, -3.84121172e-11,\n",
       "        2.25296093e-11,  1.06640949e-11,  1.10475903e-11, -8.64415556e-12,\n",
       "        4.57309658e-12,  1.49154804e-12, -4.30689976e-12, -2.65248166e-13,\n",
       "        3.27168644e-15, -9.38996662e-13, -1.85688018e-12, -1.28656199e-12,\n",
       "        1.27637808e-12,  2.75694875e-13, -5.94158008e-14, -2.51910775e-13,\n",
       "       -6.90261363e-13,  5.83298873e-13,  5.00016890e-13, -3.69029933e-14,\n",
       "       -5.20993769e-13,  8.09894398e-16,  3.29681016e-13, -1.04672991e-13,\n",
       "        2.09088039e-13,  9.71150993e-14, -5.92920964e-14,  2.84289365e-13,\n",
       "        1.56438335e-13,  2.00121588e-13,  4.34522545e-14, -1.60971524e-13,\n",
       "       -6.91295777e-14,  1.61802908e-13, -6.71534097e-14, -3.30562576e-14,\n",
       "       -3.60247642e-15, -1.87023650e-14, -7.68677451e-14,  4.13533775e-14,\n",
       "       -7.12296778e-14,  6.85539857e-14,  1.56255988e-14,  8.66626863e-15,\n",
       "        7.77356179e-14,  8.55261272e-14])"
      ]
     },
     "execution_count": 7,
     "metadata": {},
     "output_type": "execute_result"
    }
   ],
   "source": [
    "h_plus"
   ]
  },
  {
   "cell_type": "code",
   "execution_count": 8,
   "id": "d71cc45a-a2fe-45ae-a6a1-e455d4e213a4",
   "metadata": {},
   "outputs": [
    {
     "data": {
      "text/plain": [
       "array([ 0.00000000e+00,  2.79525454e-10,  7.76135884e-11,  6.24450125e-11,\n",
       "       -3.02123240e-11,  1.96662847e-11, -9.48364175e-12, -5.23152507e-12,\n",
       "        5.75721045e-12,  5.34526003e-12,  2.12409030e-13,  3.42070291e-12,\n",
       "       -2.78409131e-12,  2.09629814e-12,  4.96900892e-13, -9.98328088e-13,\n",
       "        5.61649980e-13,  1.17351343e-12,  1.04915714e-12,  8.87891195e-13,\n",
       "        4.35337015e-13,  4.32229849e-13, -4.14405459e-13, -5.82692687e-13,\n",
       "       -8.15639861e-14, -4.78309005e-13,  2.84603758e-13, -3.84003130e-13,\n",
       "       -2.99109177e-13, -3.21307336e-13,  3.03896681e-13, -3.45697161e-14,\n",
       "       -2.14586483e-13,  1.44486552e-13, -2.25793595e-13, -1.41996152e-13,\n",
       "       -1.88501641e-13,  9.60303846e-14,  1.63374053e-13,  1.62781205e-13,\n",
       "       -1.56406104e-13, -1.46386258e-13, -1.16301594e-13,  1.25221985e-13,\n",
       "        1.02609342e-13, -9.66089741e-14, -1.11388535e-13, -1.06569853e-13,\n",
       "       -6.56521484e-14, -4.56140524e-14])"
      ]
     },
     "execution_count": 8,
     "metadata": {},
     "output_type": "execute_result"
    }
   ],
   "source": [
    "h_cross"
   ]
  },
  {
   "cell_type": "markdown",
   "id": "e2bab9b6",
   "metadata": {},
   "source": [
    "## Compute noise power spectrum"
   ]
  },
  {
   "cell_type": "code",
   "execution_count": 9,
   "id": "6301939d-fd03-4b59-b26b-6a920be9726c",
   "metadata": {},
   "outputs": [],
   "source": [
    "f = cosmo_params['frequency']"
   ]
  },
  {
   "cell_type": "code",
   "execution_count": 10,
   "id": "219f7e34-8b72-49cc-94a2-d266e8a99d5a",
   "metadata": {},
   "outputs": [],
   "source": [
    "# use schNell to generate noise power spectrum for LIGO detector"
   ]
  },
  {
   "cell_type": "code",
   "execution_count": 11,
   "id": "47cbe0d3",
   "metadata": {},
   "outputs": [],
   "source": [
    "# nside = 64\n",
    "# obs_time = 365 * 24 * 3600\n",
    "# freqs = f\n",
    "\n",
    "# nl = mc.get_N_ell(obs_time, freqs, nside, no_autos=True)\n",
    "## Just for show, let's also calculate the N_ell you'd get\n",
    "## if both detectors had a 50% correlation coefficient.\n",
    "# nl_0p5 = mc0p5.get_N_ell(obs_time, freqs, nside, no_autos=True)\n",
    "\n",
    "## Plotting time!\n",
    "# ls = np.arange(3 * nside)\n",
    "# plt.figure()\n",
    "# plt.plot(ls, nl, label=r'$r=0$')\n",
    "# plt.plot(ls, nl_0p5, label=r'$r=0.5$')\n",
    "# plt.xlim([1, 100])\n",
    "# plt.ylim([3E-20, 1E-10])\n",
    "# plt.legend(loc='upper left')\n",
    "# plt.xlabel(r'$\\ell$', fontsize=16)\n",
    "# plt.ylabel(r'$N_\\ell$', fontsize=16)\n",
    "# plt.loglog();"
   ]
  },
  {
   "cell_type": "code",
   "execution_count": 12,
   "id": "08986835",
   "metadata": {},
   "outputs": [],
   "source": [
    "# using scipy implementation of welch method"
   ]
  },
  {
   "cell_type": "code",
   "execution_count": 13,
   "id": "b78aa7ad",
   "metadata": {},
   "outputs": [],
   "source": [
    "# using pypot psd function"
   ]
  },
  {
   "cell_type": "code",
   "execution_count": 14,
   "id": "4271f223",
   "metadata": {},
   "outputs": [],
   "source": [
    "# a0 = plt.plot(f)\n",
    "# plt.plot(f, NFFT = 301, Fs = 2, pad_to = 1024, scale_by_freq = True)"
   ]
  },
  {
   "cell_type": "markdown",
   "id": "ea3ecdea",
   "metadata": {},
   "source": [
    "### LIGO"
   ]
  },
  {
   "cell_type": "code",
   "execution_count": 15,
   "id": "6fe69792",
   "metadata": {},
   "outputs": [],
   "source": [
    "# using source [66] (arXiv:1005.0304)"
   ]
  },
  {
   "cell_type": "code",
   "execution_count": 16,
   "id": "fc761d73",
   "metadata": {},
   "outputs": [],
   "source": [
    "S_0 = 10**(-49) # 1/Hz\n",
    "f_0 = 215 # Hz\n",
    "f_s = 10 # Hz (low energy cuttoff)\n",
    "x = f / f_0"
   ]
  },
  {
   "cell_type": "code",
   "execution_count": 17,
   "id": "c379c9fb",
   "metadata": {},
   "outputs": [],
   "source": [
    "exp = 16 - 4 * (x * f_0 - 7.9)**2\n",
    "poly = (1 - 0.23 * x**2 + 0.0764 * x**4) / (1 + 0.17 * x**2)"
   ]
  },
  {
   "cell_type": "code",
   "execution_count": 18,
   "id": "12cbb3af",
   "metadata": {},
   "outputs": [],
   "source": [
    "snd = lambda x : S_0 * ( 10**exp + 2.4 * 10**(-62) * x**(-50) + 0.08 * x**(-4.69) + 123.35 * poly)"
   ]
  },
  {
   "cell_type": "code",
   "execution_count": 19,
   "id": "75469abc",
   "metadata": {},
   "outputs": [
    {
     "data": {
      "text/plain": [
       "[<matplotlib.lines.Line2D at 0x11db481f0>]"
      ]
     },
     "execution_count": 19,
     "metadata": {},
     "output_type": "execute_result"
    },
    {
     "data": {
      "image/png": "[encoded data removed]",
      "text/plain": [
       "<Figure size 432x288 with 1 Axes>"
      ]
     },
     "metadata": {
      "needs_background": "light"
     },
     "output_type": "display_data"
    }
   ],
   "source": [
    "plt.loglog(f, snd(f))"
   ]
  },
  {
   "cell_type": "markdown",
   "id": "6712d287",
   "metadata": {},
   "source": [
    "### ET"
   ]
  },
  {
   "cell_type": "code",
   "execution_count": 20,
   "id": "9a487401",
   "metadata": {},
   "outputs": [],
   "source": [
    "S_0_ET = 10**(-50) # 1 / Hz\n",
    "f_0_ET = 100 # Hz\n",
    "f_s = 1 # Hz (low energy cutoff)\n",
    "f_ET = np.linspace(10**0, 10**4)\n",
    "x = f_ET / f_0_ET"
   ]
  },
  {
   "cell_type": "code",
   "execution_count": 21,
   "id": "467f8e04",
   "metadata": {},
   "outputs": [],
   "source": [
    "csts = [2.39 * 10**(-27), 0.349, 1.76, 0.409]\n",
    "exps = [-15.64, -2.145, -0.12, 1.10]\n",
    "for i,j in zip(csts, exps):\n",
    "    poly += i * x **j\n",
    "snd_ET = S_0 * poly**2"
   ]
  },
  {
   "cell_type": "code",
   "execution_count": 22,
   "id": "f6759bec",
   "metadata": {},
   "outputs": [
    {
     "data": {
      "text/plain": [
       "[<matplotlib.lines.Line2D at 0x11f2b6fe0>]"
      ]
     },
     "execution_count": 22,
     "metadata": {},
     "output_type": "execute_result"
    },
    {
     "data": {
      "image/png": "[encoded data removed]",
      "text/plain": [
       "<Figure size 432x288 with 1 Axes>"
      ]
     },
     "metadata": {
      "needs_background": "light"
     },
     "output_type": "display_data"
    }
   ],
   "source": [
    "plt.loglog(f_ET, snd_ET)"
   ]
  },
  {
   "cell_type": "markdown",
   "id": "0b753419",
   "metadata": {},
   "source": [
    "## Integrated signal"
   ]
  },
  {
   "cell_type": "code",
   "execution_count": 23,
   "id": "90063c8b",
   "metadata": {},
   "outputs": [],
   "source": [
    "# DOI: 10.1016/j.measurement.2014.09.004"
   ]
  },
  {
   "cell_type": "code",
   "execution_count": null,
   "id": "a596be7a",
   "metadata": {},
   "outputs": [],
   "source": []
  },
  {
   "cell_type": "code",
   "execution_count": null,
   "id": "fdfc8cb2",
   "metadata": {},
   "outputs": [],
   "source": []
  },
  {
   "cell_type": "markdown",
   "id": "3f2223b7",
   "metadata": {},
   "source": [
    "## Partial derivatives"
   ]
  },
  {
   "cell_type": "code",
   "execution_count": 24,
   "id": "dee24ad7",
   "metadata": {},
   "outputs": [],
   "source": [
    "wf = fisher.wf"
   ]
  },
  {
   "cell_type": "code",
   "execution_count": 25,
   "id": "7eccba87",
   "metadata": {},
   "outputs": [],
   "source": [
    "f_max = 6**(-3/2) * math.pi**(-1) * wf.eta**(3/5) * wf.chirp_mass**(-1)"
   ]
  },
  {
   "cell_type": "code",
   "execution_count": 26,
   "id": "7155333e",
   "metadata": {},
   "outputs": [],
   "source": [
    "# paper says (10**5, 10**3, 1) for LIGO, ET, LISA-like"
   ]
  },
  {
   "cell_type": "markdown",
   "id": "7dcf3351",
   "metadata": {},
   "source": [
    "### For phenomenological parameters"
   ]
  },
  {
   "cell_type": "code",
   "execution_count": 27,
   "id": "8fc76a4d",
   "metadata": {},
   "outputs": [],
   "source": [
    "g = lambda x : 10**exp + 2.4 * 10**(-62) * x**(-50) + 0.08 * x**(-4.69) + 123.35 * poly"
   ]
  },
  {
   "cell_type": "code",
   "execution_count": 28,
   "id": "20b9d58d",
   "metadata": {},
   "outputs": [
    {
     "data": {
      "text/plain": [
       "array([4.16666667e-39, 2.43435229e-03, 1.95197554e-03, 1.31066275e-03,\n",
       "       8.58966202e-04, 5.88251783e-04, 4.24200097e-04, 3.19632487e-04,\n",
       "       2.49439963e-04, 2.00168917e-04, 1.64276978e-04, 1.37317888e-04,\n",
       "       1.16545871e-04, 1.00194567e-04, 8.70867510e-05, 7.64134622e-05,\n",
       "       6.76038498e-05, 6.02456482e-05, 5.40350024e-05, 4.87438978e-05,\n",
       "       4.41984722e-05, 4.02642452e-05, 3.68358502e-05, 3.38297656e-05,\n",
       "       3.11790821e-05, 2.88296794e-05, 2.67373935e-05, 2.48658909e-05,\n",
       "       2.31850561e-05, 2.16697534e-05, 2.02988683e-05, 1.90545577e-05,\n",
       "       1.79216587e-05, 1.68872183e-05, 1.59401174e-05, 1.50707670e-05,\n",
       "       1.42708618e-05, 1.35331790e-05, 1.28514128e-05, 1.22200384e-05,\n",
       "       1.16341980e-05, 1.10896065e-05, 1.05824722e-05, 1.01094302e-05,\n",
       "       9.66748561e-06, 9.25396602e-06, 8.86648045e-06, 8.50288456e-06,\n",
       "       8.16125065e-06, 7.83984193e-06])"
      ]
     },
     "execution_count": 28,
     "metadata": {},
     "output_type": "execute_result"
    }
   ],
   "source": [
    "1/g(x)"
   ]
  },
  {
   "cell_type": "code",
   "execution_count": 29,
   "id": "b13c4122",
   "metadata": {},
   "outputs": [],
   "source": [
    "# integrand = lambda q : x**(-q/3) / g(x)\n",
    "integrand = lambda q : q "
   ]
  },
  {
   "cell_type": "code",
   "execution_count": 30,
   "id": "afe5fa75",
   "metadata": {},
   "outputs": [
    {
     "name": "stderr",
     "output_type": "stream",
     "text": [
      "/var/folders/9r/_r05m5k11w16t9gxs95gprd00000gn/T/ipykernel_90876/3349258680.py:1: IntegrationWarning: The integral is probably divergent, or slowly convergent.\n",
      "  moment = quad(integrand, 0, np.inf)\n"
     ]
    },
    {
     "data": {
      "text/plain": [
       "(0.4999999961769933, 5.7336234760563265e-06)"
      ]
     },
     "execution_count": 30,
     "metadata": {},
     "output_type": "execute_result"
    }
   ],
   "source": [
    "moment = quad(integrand, 0, np.inf)\n",
    "moment"
   ]
  },
  {
   "cell_type": "code",
   "execution_count": 31,
   "id": "59b11ef2",
   "metadata": {},
   "outputs": [],
   "source": [
    "# since it is a moment perhaps it should be taken for discrete values of q..."
   ]
  },
  {
   "cell_type": "code",
   "execution_count": 32,
   "id": "6aaf233e",
   "metadata": {},
   "outputs": [],
   "source": [
    "integrand = x**(-7/3) / g(x)\n",
    "integrand\n",
    "moment = simps(integrand)\n",
    "# need to update moment to improper integration"
   ]
  },
  {
   "cell_type": "code",
   "execution_count": 33,
   "id": "ce859016",
   "metadata": {},
   "outputs": [
    {
     "name": "stderr",
     "output_type": "stream",
     "text": [
      "/Users/michellegurevich/Desktop/gravitationalwaves/modgravity/waveforms.py:95: RuntimeWarning: divide by zero encountered in true_divide\n",
      "  return math.sqrt(math.pi / 30) * (self.chirp_mass ** 2 / D_L)\n"
     ]
    }
   ],
   "source": [
    "A, _ = wf.decompose()\n",
    "np.nan_to_num(A, copy=False, nan=0.0, posinf=0.0, neginf=0.0)\n",
    "rho = 2 * wf.eta * A * (wf.chirp_mass * math.pi)**(-7/6) * f_0**(-2/3) * moment**(1/2) * S_0**(-1/2)"
   ]
  },
  {
   "cell_type": "code",
   "execution_count": 34,
   "id": "bd63672c",
   "metadata": {},
   "outputs": [],
   "source": [
    "new_amp = rho / (2 * wf.eta * (wf.chirp_mass * math.pi)**(-7/6) * f_0**(-2/3) * moment**(1/2) * S_0**(-1/2))"
   ]
  },
  {
   "cell_type": "code",
   "execution_count": 35,
   "id": "a5c4a516",
   "metadata": {},
   "outputs": [],
   "source": [
    "for i in range(len(A)):\n",
    "    print(math.isclose(A[i], new_amp[i], rel_tol=.00001)) if False else 0"
   ]
  },
  {
   "cell_type": "code",
   "execution_count": 36,
   "id": "aca68f66",
   "metadata": {},
   "outputs": [],
   "source": [
    "new_amp = np.nan_to_num(new_amp, copy=False, nan=0.0, posinf=0.0, neginf=0.0)"
   ]
  },
  {
   "cell_type": "code",
   "execution_count": 37,
   "id": "7796ece8",
   "metadata": {},
   "outputs": [],
   "source": [
    "# problem taking ln(A)"
   ]
  },
  {
   "cell_type": "code",
   "execution_count": 38,
   "id": "f50fb327",
   "metadata": {},
   "outputs": [
    {
     "data": {
      "text/plain": [
       "array([ 1.25077087e+01,  5.74255967e+01, -9.21038828e+01,  2.22326164e+02,\n",
       "       -1.26075323e+01,  1.09905267e-01, -4.47498209e+00,  3.59257104e+00,\n",
       "       -4.10521525e+00,  5.22885793e+01,  1.59058307e+01, -4.70287422e+00,\n",
       "        5.84433961e-01,  1.67038914e+00,  2.20071349e-01, -3.48086655e+00,\n",
       "       -1.40063033e+00,  1.61925653e+00,  7.23991766e-01,  1.02033530e+00,\n",
       "       -1.71790176e+00, -2.00759366e+00,  1.37167893e+00,  2.30568101e+00,\n",
       "       -3.07968896e-01, -2.24958732e+00,  4.89670978e-01,  1.95985422e-01,\n",
       "       -5.80016274e-01,  1.00299751e+00, -8.85810353e-01, -7.79412469e-01,\n",
       "        3.31214784e-01,  6.15917696e-01,  1.89681117e+00,  5.22148287e-01,\n",
       "       -1.95463838e+00,  1.58216319e-01,  1.19363766e+00, -4.45115824e-01,\n",
       "       -8.85234709e-02,  5.93284530e-01, -5.73648776e-01,  5.39142837e-02,\n",
       "       -3.65370971e-01, -7.46013514e-01,  5.83486121e-01, -6.96633285e-01,\n",
       "       -8.22692946e-01, -1.77009108e-01])"
      ]
     },
     "execution_count": 38,
     "metadata": {},
     "output_type": "execute_result"
    }
   ],
   "source": [
    "# partial derivative with respect to ln of modified amplitude defined from SNR\n",
    "np.gradient(h_plus, new_amp)"
   ]
  },
  {
   "cell_type": "code",
   "execution_count": 39,
   "id": "cb81b181",
   "metadata": {},
   "outputs": [
    {
     "name": "stdout",
     "output_type": "stream",
     "text": [
      "[ inf  inf -inf -inf  inf -inf -inf -inf  inf -inf -inf  inf -inf -inf\n",
      " -inf  inf  inf -inf -inf -inf  inf  inf -inf -inf  inf  inf -inf -inf\n",
      "  inf -inf  inf  inf -inf -inf -inf -inf  inf  inf -inf  inf  inf -inf\n",
      "  inf  inf  inf  inf -inf  inf  inf  inf]\n",
      "[ 1.65381450e-09  1.67807117e-10 -8.65319368e-10 -1.45277507e-10\n",
      "  4.90762121e-11 -1.14820191e-11 -1.93082505e-11 -6.47449368e-12\n",
      "  1.01357036e-11 -8.87999635e-12 -1.75679621e-12  4.31017145e-12\n",
      " -6.73748496e-13 -1.86015187e-12 -3.47565325e-13  3.13325826e-12\n",
      "  1.56225686e-12 -1.33579388e-12 -5.27605649e-13 -6.30845562e-13\n",
      "  8.35209647e-13  1.19027825e-12 -6.20201866e-13 -1.02101066e-12\n",
      "  3.77128877e-14  8.50674785e-13 -1.05482886e-13 -1.20592978e-13\n",
      "  2.01788091e-13 -2.68380135e-13  1.87174266e-13  2.15730431e-13\n",
      " -8.41677774e-14 -1.12986080e-13 -3.61093112e-13 -1.12581832e-13\n",
      "  3.22774432e-13  1.97616799e-15 -1.94859165e-13  6.35509333e-14\n",
      "  1.43538926e-14 -7.32652687e-14  6.00557425e-14  5.63806734e-15\n",
      "  2.72006082e-14  8.68552766e-14 -5.98877171e-14  6.21100191e-14\n",
      "  7.68598586e-14  1.55810185e-14]\n",
      "[ 8.26907251e-10  8.39035583e-11 -4.32659684e-10 -7.26387536e-11\n",
      "  2.45381061e-11 -5.74100953e-12 -9.65412524e-12 -3.23724684e-12\n",
      "  5.06785180e-12 -4.43999817e-12 -8.78398104e-13  2.15508573e-12\n",
      " -3.36874248e-13 -9.30075935e-13 -1.73782662e-13  1.56662913e-12\n",
      "  7.81128431e-13 -6.67896939e-13 -2.63802825e-13 -3.15422781e-13\n",
      "  4.17604824e-13  5.95139126e-13 -3.10100933e-13 -5.10505330e-13\n",
      "  1.88564438e-14  4.25337393e-13 -5.27414428e-14 -6.02964889e-14\n",
      "  1.00894045e-13 -1.34190067e-13  9.35871329e-14  1.07865215e-13\n",
      " -4.20838887e-14 -5.64930400e-14 -1.80546556e-13 -5.62909161e-14\n",
      "  1.61387216e-13  9.88083996e-16 -9.74295826e-14  3.17754666e-14\n",
      "  7.17694630e-15 -3.66326343e-14  3.00278713e-14  2.81903367e-15\n",
      "  1.36003041e-14  4.34276383e-14 -2.99438585e-14  3.10550095e-14\n",
      "  3.84299293e-14  7.79050924e-15]\n",
      "[ 5.51271500e-10  5.59357055e-11 -2.88439789e-10 -4.84258357e-11\n",
      "  1.63587374e-11 -3.82733969e-12 -6.43608350e-12 -2.15816456e-12\n",
      "  3.37856787e-12 -2.95999878e-12 -5.85598736e-13  1.43672382e-12\n",
      " -2.24582832e-13 -6.20050624e-13 -1.15855108e-13  1.04441942e-12\n",
      "  5.20752287e-13 -4.45264626e-13 -1.75868550e-13 -2.10281854e-13\n",
      "  2.78403216e-13  3.96759418e-13 -2.06733955e-13 -3.40336886e-13\n",
      "  1.25709626e-14  2.83558262e-13 -3.51609619e-14 -4.01976592e-14\n",
      "  6.72626968e-14 -8.94600450e-14  6.23914219e-14  7.19101436e-14\n",
      " -2.80559258e-14 -3.76620267e-14 -1.20364371e-13 -3.75272774e-14\n",
      "  1.07591477e-13  6.58722664e-16 -6.49530550e-14  2.11836444e-14\n",
      "  4.78463087e-15 -2.44217562e-14  2.00185808e-14  1.87935578e-15\n",
      "  9.06686940e-15  2.89517589e-14 -1.99625724e-14  2.07033397e-14\n",
      "  2.56199529e-14  5.19367283e-15]\n",
      "[ 4.13453625e-10  4.19517791e-11 -2.16329842e-10 -3.63193768e-11\n",
      "  1.22690530e-11 -2.87050476e-12 -4.82706262e-12 -1.61862342e-12\n",
      "  2.53392590e-12 -2.21999909e-12 -4.39199052e-13  1.07754286e-12\n",
      " -1.68437124e-13 -4.65037968e-13 -8.68913312e-14  7.83314565e-13\n",
      "  3.90564215e-13 -3.33948470e-13 -1.31901412e-13 -1.57711390e-13\n",
      "  2.08802412e-13  2.97569563e-13 -1.55050466e-13 -2.55252665e-13\n",
      "  9.42822192e-15  2.12668696e-13 -2.63707214e-14 -3.01482444e-14\n",
      "  5.04470226e-14 -6.70950337e-14  4.67935664e-14  5.39326077e-14\n",
      " -2.10419444e-14 -2.82465200e-14 -9.02732780e-14 -2.81454581e-14\n",
      "  8.06936079e-14  4.94041998e-16 -4.87147913e-14  1.58877333e-14\n",
      "  3.58847315e-15 -1.83163172e-14  1.50139356e-14  1.40951683e-15\n",
      "  6.80015205e-15  2.17138192e-14 -1.49719293e-14  1.55275048e-14\n",
      "  1.92149646e-14  3.89525462e-15]\n",
      "[ 3.30762900e-10  3.35614233e-11 -1.73063874e-10 -2.90555014e-11\n",
      "  9.81524242e-12 -2.29640381e-12 -3.86165010e-12 -1.29489874e-12\n",
      "  2.02714072e-12 -1.77599927e-12 -3.51359242e-13  8.62034290e-13\n",
      " -1.34749699e-13 -3.72030374e-13 -6.95130650e-14  6.26651652e-13\n",
      "  3.12451372e-13 -2.67158776e-13 -1.05521130e-13 -1.26169112e-13\n",
      "  1.67041929e-13  2.38055651e-13 -1.24040373e-13 -2.04202132e-13\n",
      "  7.54257753e-15  1.70134957e-13 -2.10965771e-14 -2.41185955e-14\n",
      "  4.03576181e-14 -5.36760270e-14  3.74348532e-14  4.31460862e-14\n",
      " -1.68335555e-14 -2.25972160e-14 -7.22186224e-14 -2.25163664e-14\n",
      "  6.45548863e-14  3.95233598e-16 -3.89718330e-14  1.27101867e-14\n",
      "  2.87077852e-15 -1.46530537e-14  1.20111485e-14  1.12761347e-15\n",
      "  5.44012164e-15  1.73710553e-14 -1.19775434e-14  1.24220038e-14\n",
      "  1.53719717e-14  3.11620370e-15]\n",
      "[ 2.75635750e-10  2.79678528e-11 -1.44219895e-10 -2.42129179e-11\n",
      "  8.17936868e-12 -1.91366984e-12 -3.21804175e-12 -1.07908228e-12\n",
      "  1.68928393e-12 -1.47999939e-12 -2.92799368e-13  7.18361908e-13\n",
      " -1.12291416e-13 -3.10025312e-13 -5.79275542e-14  5.22209710e-13\n",
      "  2.60376144e-13 -2.22632313e-13 -8.79342749e-14 -1.05140927e-13\n",
      "  1.39201608e-13  1.98379709e-13 -1.03366978e-13 -1.70168443e-13\n",
      "  6.28548128e-15  1.41779131e-13 -1.75804809e-14 -2.00988296e-14\n",
      "  3.36313484e-14 -4.47300225e-14  3.11957110e-14  3.59550718e-14\n",
      " -1.40279629e-14 -1.88310133e-14 -6.01821853e-14 -1.87636387e-14\n",
      "  5.37957386e-14  3.29361332e-16 -3.24765275e-14  1.05918222e-14\n",
      "  2.39231543e-15 -1.22108781e-14  1.00092904e-14  9.39677890e-16\n",
      "  4.53343470e-15  1.44758794e-14 -9.98128618e-15  1.03516698e-14\n",
      "  1.28099764e-14  2.59683641e-15]\n",
      "[ 2.36259214e-10  2.39724452e-11 -1.23617053e-10 -2.07539296e-11\n",
      "  7.01088744e-12 -1.64028844e-12 -2.75832150e-12 -9.24927668e-13\n",
      "  1.44795766e-12 -1.26857091e-12 -2.50970887e-13  6.15738779e-13\n",
      " -9.62497851e-14 -2.65735982e-13 -4.96521893e-14  4.47608323e-13\n",
      "  2.23179552e-13 -1.90827697e-13 -7.53722356e-14 -9.01207945e-14\n",
      "  1.19315664e-13  1.70039750e-13 -8.86002666e-14 -1.45858666e-13\n",
      "  5.38755538e-15  1.21524969e-13 -1.50689837e-14 -1.72275682e-14\n",
      "  2.88268701e-14 -3.83400193e-14  2.67391808e-14  3.08186330e-14\n",
      " -1.20239682e-14 -1.61408686e-14 -5.15847303e-14 -1.60831189e-14\n",
      "  4.61106331e-14  2.82309713e-16 -2.78370236e-14  9.07870475e-15\n",
      "  2.05055609e-15 -1.04664670e-14  8.57939179e-15  8.05438191e-16\n",
      "  3.88580117e-15  1.24078967e-14 -8.55538815e-15  8.87285987e-15\n",
      "  1.09799798e-14  2.22585978e-15]\n",
      "[ 2.06726813e-10  2.09758896e-11 -1.08164921e-10 -1.81596884e-11\n",
      "  6.13452651e-12 -1.43525238e-12 -2.41353131e-12 -8.09311710e-13\n",
      "  1.26696295e-12 -1.10999954e-12 -2.19599526e-13  5.38771431e-13\n",
      " -8.42185620e-14 -2.32518984e-13 -4.34456656e-14  3.91657283e-13\n",
      "  1.95282108e-13 -1.66974235e-13 -6.59507062e-14 -7.88556952e-14\n",
      "  1.04401206e-13  1.48784782e-13 -7.75252332e-14 -1.27626332e-13\n",
      "  4.71411096e-15  1.06334348e-13 -1.31853607e-14 -1.50741222e-14\n",
      "  2.52235113e-14 -3.35475169e-14  2.33967832e-14  2.69663039e-14\n",
      " -1.05209722e-14 -1.41232600e-14 -4.51366390e-14 -1.40727290e-14\n",
      "  4.03468040e-14  2.47020999e-16 -2.43573956e-14  7.94386666e-15\n",
      "  1.79423657e-15 -9.15815858e-15  7.50696781e-15  7.04758417e-16\n",
      "  3.40007603e-15  1.08569096e-14 -7.48596463e-15  7.76375239e-15\n",
      "  9.60748232e-15  1.94762731e-15]\n"
     ]
    },
    {
     "name": "stderr",
     "output_type": "stream",
     "text": [
      "/Library/Frameworks/Python.framework/Versions/3.10/lib/python3.10/site-packages/numpy/lib/function_base.py:1211: RuntimeWarning: divide by zero encountered in true_divide\n",
      "  out[tuple(slice1)] = (f[tuple(slice4)] - f[tuple(slice2)]) / (2. * ax_dx)\n",
      "/Library/Frameworks/Python.framework/Versions/3.10/lib/python3.10/site-packages/numpy/lib/function_base.py:1232: RuntimeWarning: divide by zero encountered in double_scalars\n",
      "  out[tuple(slice1)] = (f[tuple(slice2)] - f[tuple(slice3)]) / dx_0\n",
      "/Library/Frameworks/Python.framework/Versions/3.10/lib/python3.10/site-packages/numpy/lib/function_base.py:1239: RuntimeWarning: divide by zero encountered in double_scalars\n",
      "  out[tuple(slice1)] = (f[tuple(slice2)] - f[tuple(slice3)]) / dx_n\n"
     ]
    },
    {
     "data": {
      "text/plain": [
       "array([0. , 0.5, 1. , 1.5, 2. , 2.5, 3. , 3.5, 4. ])"
      ]
     },
     "execution_count": 39,
     "metadata": {},
     "output_type": "execute_result"
    }
   ],
   "source": [
    "alphas = np.arange(0,4.5,.5)\n",
    "for alpha in alphas:\n",
    "    print(np.gradient(h_plus, alpha))"
   ]
  },
  {
   "cell_type": "markdown",
   "id": "9de22a03",
   "metadata": {},
   "source": [
    "### For waveform parameters"
   ]
  },
  {
   "cell_type": "code",
   "execution_count": 40,
   "id": "57f782dc",
   "metadata": {},
   "outputs": [
    {
     "data": {
      "text/plain": [
       "array([-1.09437239e-10, -1.11042366e-11,  5.72604500e-11,  9.61339332e-12,\n",
       "       -3.24750155e-12,  7.59795287e-13,  1.27767753e-12,  4.28434212e-13,\n",
       "       -6.70706066e-13,  5.87612627e-13,  1.16251808e-13, -2.85215339e-13,\n",
       "        4.45837034e-14,  1.23091123e-13,  2.29993083e-14, -2.07335909e-13,\n",
       "       -1.03378630e-13,  8.83929811e-14,  3.49130483e-14,  4.17447038e-14,\n",
       "       -5.52680109e-14, -7.87638309e-14,  4.10403826e-14,  6.75629507e-14,\n",
       "       -2.49556060e-15, -5.62913796e-14,  6.98007894e-15,  7.97995333e-15,\n",
       "       -1.33528467e-14,  1.77594168e-14, -1.23858116e-14, -1.42754479e-14,\n",
       "        5.56960238e-15,  7.47658497e-15,  2.38944774e-14,  7.44983484e-15,\n",
       "       -2.13588299e-14, -1.30768214e-16,  1.28943415e-14, -4.20533178e-15,\n",
       "       -9.49834685e-16,  4.84815481e-15, -3.97404585e-15, -3.73085689e-16,\n",
       "       -1.79993552e-15, -5.74744124e-15,  3.96292716e-15, -4.10998271e-15,\n",
       "       -5.08601824e-15, -1.03103682e-15])"
      ]
     },
     "execution_count": 40,
     "metadata": {},
     "output_type": "execute_result"
    }
   ],
   "source": [
    "# partial derivative with respect to ln of chirp mass\n",
    "np.gradient(h_plus, np.log(wf.chirp_mass))"
   ]
  },
  {
   "cell_type": "code",
   "execution_count": 41,
   "id": "32da84b3",
   "metadata": {},
   "outputs": [
    {
     "data": {
      "text/plain": [
       "array([-5.79425250e-10, -5.87923738e-11,  3.03170573e-10,  5.08989707e-11,\n",
       "       -1.71941874e-11,  4.02280410e-12,  6.76477794e-12,  2.26838325e-12,\n",
       "       -3.55111325e-12,  3.11116760e-12,  6.15505597e-13, -1.51009812e-12,\n",
       "        2.36052405e-13,  6.51716962e-13,  1.21771895e-13, -1.09775851e-12,\n",
       "       -5.47347403e-13,  4.68004544e-13,  1.84850257e-13,  2.21021068e-13,\n",
       "       -2.92621426e-13, -4.17022147e-13,  2.17291976e-13,  3.57718085e-13,\n",
       "       -1.32129688e-14, -2.98039743e-13,  3.69566522e-14,  4.22505766e-14,\n",
       "       -7.06978411e-14,  9.40288204e-14, -6.55777874e-14, -7.55826356e-14,\n",
       "        2.94887579e-14,  3.95854478e-14,  1.26511447e-13,  3.94438168e-14,\n",
       "       -1.13086235e-13, -6.92364005e-16,  6.82702445e-14, -2.22655052e-14,\n",
       "       -5.02898469e-15,  2.56689892e-14, -2.10409411e-14, -1.97533555e-15,\n",
       "       -9.52991958e-15, -3.04303417e-14,  2.09820723e-14, -2.17606710e-14,\n",
       "       -2.69283784e-14, -5.45891665e-15])"
      ]
     },
     "execution_count": 41,
     "metadata": {},
     "output_type": "execute_result"
    }
   ],
   "source": [
    "# partial derivative with respect to eta, the mass ratio\n",
    "np.gradient(h_plus, np.log(wf.eta))"
   ]
  },
  {
   "cell_type": "code",
   "execution_count": 42,
   "id": "0d5e3c17",
   "metadata": {},
   "outputs": [],
   "source": [
    "# partial derivative with respect to beta parameter, which describes massive graviton\n",
    "deriv_1 = np.gradient(h_plus, wf.beta())"
   ]
  },
  {
   "cell_type": "code",
   "execution_count": 43,
   "id": "ea90f318",
   "metadata": {},
   "outputs": [
    {
     "data": {
      "text/plain": [
       "array([0.00000000e+00, 7.32703991e+14, 1.66867713e+15, 2.82529532e+15,\n",
       "       4.21854923e+15, 5.86307731e+15, 7.77225551e+15, 9.95831904e+15,\n",
       "       1.24324972e+16, 1.52051475e+16, 1.82858816e+16, 2.16836777e+16,\n",
       "       2.54069780e+16, 2.94637724e+16, 3.38616680e+16, 3.86079467e+16,\n",
       "       4.37096135e+16, 4.91734346e+16, 5.50059705e+16, 6.12136011e+16,\n",
       "       6.78025480e+16, 7.47788919e+16, 8.21485869e+16, 8.99174731e+16,\n",
       "       9.80912865e+16, 1.06675668e+17, 1.15676168e+17, 1.25098258e+17,\n",
       "       1.34947329e+17, 1.45228702e+17, 1.55947629e+17, 1.67109297e+17,\n",
       "       1.78718830e+17, 1.90781294e+17, 2.03301698e+17, 2.16284998e+17,\n",
       "       2.29736095e+17, 2.43659841e+17, 2.58061040e+17, 2.72944447e+17,\n",
       "       2.88314775e+17, 3.04176687e+17, 3.20534809e+17, 3.37393722e+17,\n",
       "       3.54757966e+17, 3.72632044e+17, 3.91020418e+17, 4.09927514e+17,\n",
       "       4.29357722e+17, 4.49315395e+17])"
      ]
     },
     "execution_count": 43,
     "metadata": {},
     "output_type": "execute_result"
    }
   ],
   "source": [
    "# partial derivative with respect to beta parameter, which describes Lorentz-violating terms\n",
    "wf.zeta()"
   ]
  },
  {
   "cell_type": "markdown",
   "id": "1663027a",
   "metadata": {},
   "source": [
    "## Plots"
   ]
  },
  {
   "cell_type": "code",
   "execution_count": 44,
   "id": "23cd9128",
   "metadata": {},
   "outputs": [
    {
     "data": {
      "text/plain": [
       "[<matplotlib.lines.Line2D at 0x11f516ce0>]"
      ]
     },
     "execution_count": 44,
     "metadata": {},
     "output_type": "execute_result"
    },
    {
     "data": {
      "image/png": "[encoded data removed]",
      "text/plain": [
       "<Figure size 432x288 with 1 Axes>"
      ]
     },
     "metadata": {
      "needs_background": "light"
     },
     "output_type": "display_data"
    }
   ],
   "source": [
    "plt.plot(wf.f, deriv_1) "
   ]
  },
  {
   "cell_type": "code",
   "execution_count": null,
   "id": "73f1263e",
   "metadata": {},
   "outputs": [],
   "source": []
  }
 ],
 "metadata": {
  "kernelspec": {
   "display_name": "Python 3 (ipykernel)",
   "language": "python",
   "name": "python3"
  },
  "language_info": {
   "codemirror_mode": {
    "name": "ipython",
    "version": 3
   },
   "file_extension": ".py",
   "mimetype": "text/x-python",
   "name": "python",
   "nbconvert_exporter": "python",
   "pygments_lexer": "ipython3",
   "version": "3.10.2"
  }
 },
 "nbformat": 4,
 "nbformat_minor": 5
}
