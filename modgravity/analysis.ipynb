{
 "cells": [
  {
   "cell_type": "code",
   "execution_count": 1,
   "id": "e5e58655",
   "metadata": {},
   "outputs": [],
   "source": [
    "# cosmology library imports\n",
    "import camb \n",
    "# import pycbc"
   ]
  },
  {
   "cell_type": "code",
   "execution_count": 2,
   "id": "2bcfe60f",
   "metadata": {},
   "outputs": [],
   "source": [
    "# standard library imports\n",
    "import numpy as np\n",
    "import matplotlib.pyplot as plt"
   ]
  },
  {
   "cell_type": "code",
   "execution_count": 3,
   "id": "412b7c76",
   "metadata": {},
   "outputs": [],
   "source": [
    "from distances import distances"
   ]
  },
  {
   "cell_type": "code",
   "execution_count": 4,
   "id": "cf2cd259",
   "metadata": {},
   "outputs": [
    {
     "data": {
      "text/plain": [
       "{'redshift': array([0.        , 0.08163265, 0.16326531, 0.24489796, 0.32653061,\n",
       "        0.40816327, 0.48979592, 0.57142857, 0.65306122, 0.73469388,\n",
       "        0.81632653, 0.89795918, 0.97959184, 1.06122449, 1.14285714,\n",
       "        1.2244898 , 1.30612245, 1.3877551 , 1.46938776, 1.55102041,\n",
       "        1.63265306, 1.71428571, 1.79591837, 1.87755102, 1.95918367,\n",
       "        2.04081633, 2.12244898, 2.20408163, 2.28571429, 2.36734694,\n",
       "        2.44897959, 2.53061224, 2.6122449 , 2.69387755, 2.7755102 ,\n",
       "        2.85714286, 2.93877551, 3.02040816, 3.10204082, 3.18367347,\n",
       "        3.26530612, 3.34693878, 3.42857143, 3.51020408, 3.59183673,\n",
       "        3.67346939, 3.75510204, 3.83673469, 3.91836735, 4.        ])}"
      ]
     },
     "execution_count": 4,
     "metadata": {},
     "output_type": "execute_result"
    }
   ],
   "source": [
    "cosmo_params = {\n",
    "    'redshift' : np.linspace(0,4)\n",
    "}\n",
    "cosmo_params"
   ]
  },
  {
   "cell_type": "code",
   "execution_count": 5,
   "id": "cca165a1",
   "metadata": {},
   "outputs": [
    {
     "data": {
      "text/plain": [
       "{'alpha': 4, 'A': 0.001}"
      ]
     },
     "execution_count": 5,
     "metadata": {},
     "output_type": "execute_result"
    }
   ],
   "source": [
    "phenom_params = {\n",
    "    'alpha' : 4,\n",
    "    'A' : .001\n",
    "}\n",
    "phenom_params"
   ]
  },
  {
   "cell_type": "code",
   "execution_count": 6,
   "id": "2b807e9e",
   "metadata": {},
   "outputs": [],
   "source": [
    "# instantiate class\n",
    "dist = distances(cosmo_params, phenom_params)"
   ]
  },
  {
   "cell_type": "code",
   "execution_count": 7,
   "id": "94284704",
   "metadata": {},
   "outputs": [
    {
     "data": {
      "text/plain": [
       "{'redshift': array([0.        , 0.08163265, 0.16326531, 0.24489796, 0.32653061,\n",
       "        0.40816327, 0.48979592, 0.57142857, 0.65306122, 0.73469388,\n",
       "        0.81632653, 0.89795918, 0.97959184, 1.06122449, 1.14285714,\n",
       "        1.2244898 , 1.30612245, 1.3877551 , 1.46938776, 1.55102041,\n",
       "        1.63265306, 1.71428571, 1.79591837, 1.87755102, 1.95918367,\n",
       "        2.04081633, 2.12244898, 2.20408163, 2.28571429, 2.36734694,\n",
       "        2.44897959, 2.53061224, 2.6122449 , 2.69387755, 2.7755102 ,\n",
       "        2.85714286, 2.93877551, 3.02040816, 3.10204082, 3.18367347,\n",
       "        3.26530612, 3.34693878, 3.42857143, 3.51020408, 3.59183673,\n",
       "        3.67346939, 3.75510204, 3.83673469, 3.91836735, 4.        ])}"
      ]
     },
     "execution_count": 7,
     "metadata": {},
     "output_type": "execute_result"
    }
   ],
   "source": [
    "# verify params are passed through\n",
    "dist.cosmo_params"
   ]
  },
  {
   "cell_type": "code",
   "execution_count": 8,
   "id": "a231cb81",
   "metadata": {},
   "outputs": [
    {
     "data": {
      "text/plain": [
       "4.0"
      ]
     },
     "execution_count": 8,
     "metadata": {},
     "output_type": "execute_result"
    }
   ],
   "source": [
    "# get maximum redshift\n",
    "cosmo_params['redshift'][-1]"
   ]
  },
  {
   "cell_type": "code",
   "execution_count": 9,
   "id": "463325c8",
   "metadata": {},
   "outputs": [
    {
     "data": {
      "text/plain": [
       "array([    0.        ,   360.78705836,   760.90840132,  1196.81568524,\n",
       "        1665.15864193,  2162.83072748,  2686.99315443,  3235.08142307,\n",
       "        3804.79895958,  4394.10215784,  5001.18039167,  5624.43370723,\n",
       "        6262.45009938,  6913.98360647,  7577.93394728,  8253.32805977,\n",
       "        8939.30365694,  9635.09476237, 10340.01909927, 11053.46716294,\n",
       "       11774.89279037, 12503.80504192, 13239.76122148, 13982.36087728,\n",
       "       14731.24064317, 15486.06979828, 16246.54643928, 17012.39417475,\n",
       "       17783.35926453, 18559.20813839, 19339.72523853, 20124.71113885,\n",
       "       20913.98090126, 21707.36263518, 22504.69623194, 23305.83224965,\n",
       "       24110.63092825, 24918.96131697, 25730.70049971, 26545.73290521,\n",
       "       27363.94969149, 28185.24819507, 29009.53143691, 29836.70767838,\n",
       "       30666.69002111, 31499.39604564, 32334.74748441, 33172.66992521,\n",
       "       34013.09254172, 34855.94784809])"
      ]
     },
     "execution_count": 9,
     "metadata": {},
     "output_type": "execute_result"
    }
   ],
   "source": [
    "# calculate lumonsity distance for given cosmo params\n",
    "dist.luminosity(cosmo_params)"
   ]
  },
  {
   "cell_type": "code",
   "execution_count": 10,
   "id": "0031983b",
   "metadata": {},
   "outputs": [
    {
     "data": {
      "text/plain": [
       "array([     0.        ,    390.84473048,    890.11888894,   1507.09127165,\n",
       "         2250.29173861,   3127.52885379,   4145.93771788,   5312.04493641,\n",
       "         6631.84050584,   8110.84947287,   9754.19893514,  11566.67805398,\n",
       "        13552.79021817,  15716.79742772,  18062.75749075,  20594.55487175,\n",
       "        23315.92609845,  26230.48060197,  29341.71778022,  32653.04097021,\n",
       "        36167.76890769,  39889.14515397,  43820.34588174,  47964.48633801,\n",
       "        52324.62623986,  56903.77430841,  61704.89210539,  66730.89730338,\n",
       "        71984.66649493,  77469.03762431,  83186.81210936,  89140.75670721,\n",
       "        95333.60516748, 101768.05970798, 108446.79234124, 115372.44607508,\n",
       "       122547.63600592, 129974.95032027, 137656.95121718, 145596.175762  ,\n",
       "       153795.13668026, 162256.32309889, 170982.20124085, 179975.21507841,\n",
       "       189237.78694925, 198772.31813932, 208581.18943543, 218666.76165045,\n",
       "       229031.37612344, 239677.35519676])"
      ]
     },
     "execution_count": 10,
     "metadata": {},
     "output_type": "execute_result"
    }
   ],
   "source": [
    "dist.mod_luminosity(cosmo_params, phenom_params)"
   ]
  },
  {
   "cell_type": "code",
   "execution_count": 11,
   "id": "f701e337",
   "metadata": {},
   "outputs": [],
   "source": [
    "cosmo_params = {\n",
    "    'redshift' : np.linspace(0,4),\n",
    "    'E_e' : 1,\n",
    "    't_e' : 1,\n",
    "    't_a' : 2,\n",
    "}\n",
    "phenom_params = {\n",
    "    'A' : 1,\n",
    "    'alpha' : 4,\n",
    "    'm_g' : 1,\n",
    "}"
   ]
  },
  {
   "cell_type": "code",
   "execution_count": 12,
   "id": "61651d5d",
   "metadata": {},
   "outputs": [
    {
     "data": {
      "text/plain": [
       "array([ 0.        , -0.00411061, -0.01531671, -0.03227804, -0.05398898,\n",
       "       -0.07967363, -0.10872064, -0.14064025, -0.17503465, -0.21157701,\n",
       "       -0.24999601, -0.29006447, -0.33159059, -0.3744113 , -0.41838703,\n",
       "       -0.46339764, -0.5093391 , -0.55612087, -0.60366384, -0.65189848,\n",
       "       -0.70076351, -0.75020469, -0.80017382, -0.85062792, -0.90152857,\n",
       "       -0.95284129, -1.00453507, -1.05658193, -1.10895657, -1.16163604,\n",
       "       -1.21459949, -1.26782793, -1.32130401, -1.37501189, -1.42893704,\n",
       "       -1.4830661 , -1.5373868 , -1.59188785, -1.6465588 , -1.70139002,\n",
       "       -1.75637256, -1.81149816, -1.86675912, -1.92214831, -1.97765907,\n",
       "       -2.03328521, -2.08902093, -2.14486084, -2.20079989, -2.25683333])"
      ]
     },
     "execution_count": 12,
     "metadata": {},
     "output_type": "execute_result"
    }
   ],
   "source": [
    "dist.chi_term(cosmo_params, phenom_params)"
   ]
  },
  {
   "cell_type": "code",
   "execution_count": 13,
   "id": "238da0ea",
   "metadata": {},
   "outputs": [],
   "source": [
    "wf_params = {\n",
    "        'approximant': 'TaylorF2',\n",
    "        'mass1': 10,\n",
    "        'mass2': 15,\n",
    "        'delta_f': 1.0 / 170, \n",
    "        'f_lower': 40,\n",
    "}"
   ]
  },
  {
   "cell_type": "code",
   "execution_count": 14,
   "id": "1f4c2b7f",
   "metadata": {},
   "outputs": [],
   "source": [
    "# from fisher_analysis import fisher_analysis"
   ]
  },
  {
   "cell_type": "code",
   "execution_count": 15,
   "id": "cae325d6",
   "metadata": {},
   "outputs": [],
   "source": [
    "# fisher = fisher_analysis(cosmo_params, phenom_params, wf_params)"
   ]
  },
  {
   "cell_type": "code",
   "execution_count": 16,
   "id": "430e45d9",
   "metadata": {},
   "outputs": [],
   "source": [
    "# fisher.generate_noise()"
   ]
  },
  {
   "cell_type": "code",
   "execution_count": 17,
   "id": "39de9b53",
   "metadata": {},
   "outputs": [],
   "source": [
    "# h = fisher.get_signal()"
   ]
  },
  {
   "cell_type": "code",
   "execution_count": 18,
   "id": "8263d59b",
   "metadata": {},
   "outputs": [],
   "source": [
    "# h"
   ]
  },
  {
   "cell_type": "code",
   "execution_count": 19,
   "id": "b1817db5",
   "metadata": {},
   "outputs": [],
   "source": [
    "from modify_waveform import modify_waveform"
   ]
  },
  {
   "cell_type": "code",
   "execution_count": 20,
   "id": "1018bb18",
   "metadata": {},
   "outputs": [],
   "source": [
    "mw = modify_waveform(cosmo_params, phenom_params, wf_params)"
   ]
  },
  {
   "cell_type": "code",
   "execution_count": 21,
   "id": "20c50aae",
   "metadata": {},
   "outputs": [
    {
     "data": {
      "text/plain": [
       "1.0"
      ]
     },
     "execution_count": 21,
     "metadata": {},
     "output_type": "execute_result"
    }
   ],
   "source": [
    "mw.lambda_A(**phenom_params)"
   ]
  },
  {
   "cell_type": "raw",
   "id": "57a6f446",
   "metadata": {},
   "source": []
  },
  {
   "cell_type": "raw",
   "id": "cadfdc67",
   "metadata": {},
   "source": []
  }
 ],
 "metadata": {
  "kernelspec": {
   "display_name": "Python 3 (ipykernel)",
   "language": "python",
   "name": "python3"
  },
  "language_info": {
   "codemirror_mode": {
    "name": "ipython",
    "version": 3
   },
   "file_extension": ".py",
   "mimetype": "text/x-python",
   "name": "python",
   "nbconvert_exporter": "python",
   "pygments_lexer": "ipython3",
   "version": "3.10.2"
  }
 },
 "nbformat": 4,
 "nbformat_minor": 5
}
