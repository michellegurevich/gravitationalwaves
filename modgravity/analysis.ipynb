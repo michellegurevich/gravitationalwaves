{
 "cells": [
  {
   "cell_type": "code",
   "execution_count": 1,
   "id": "e5e58655",
   "metadata": {},
   "outputs": [],
   "source": [
    "# cosmology library imports\n",
    "import camb \n",
    "# import pycbc"
   ]
  },
  {
   "cell_type": "code",
   "execution_count": 2,
   "id": "2bcfe60f",
   "metadata": {},
   "outputs": [],
   "source": [
    "# standard library imports\n",
    "import numpy as np\n",
    "import matplotlib.pyplot as plt"
   ]
  },
  {
   "cell_type": "code",
   "execution_count": 3,
   "id": "412b7c76",
   "metadata": {},
   "outputs": [],
   "source": [
    "from distances import distances"
   ]
  },
  {
   "cell_type": "code",
   "execution_count": 4,
   "id": "cf2cd259",
   "metadata": {},
   "outputs": [
    {
     "data": {
      "text/plain": [
       "{'redshift': array([0.        , 0.08163265, 0.16326531, 0.24489796, 0.32653061,\n",
       "        0.40816327, 0.48979592, 0.57142857, 0.65306122, 0.73469388,\n",
       "        0.81632653, 0.89795918, 0.97959184, 1.06122449, 1.14285714,\n",
       "        1.2244898 , 1.30612245, 1.3877551 , 1.46938776, 1.55102041,\n",
       "        1.63265306, 1.71428571, 1.79591837, 1.87755102, 1.95918367,\n",
       "        2.04081633, 2.12244898, 2.20408163, 2.28571429, 2.36734694,\n",
       "        2.44897959, 2.53061224, 2.6122449 , 2.69387755, 2.7755102 ,\n",
       "        2.85714286, 2.93877551, 3.02040816, 3.10204082, 3.18367347,\n",
       "        3.26530612, 3.34693878, 3.42857143, 3.51020408, 3.59183673,\n",
       "        3.67346939, 3.75510204, 3.83673469, 3.91836735, 4.        ]),\n",
       " 'frequency': array([1.        , 0.97961224, 0.95922449, 0.93883673, 0.91844898,\n",
       "        0.89806122, 0.87767347, 0.85728571, 0.83689796, 0.8165102 ,\n",
       "        0.79612245, 0.77573469, 0.75534694, 0.73495918, 0.71457143,\n",
       "        0.69418367, 0.67379592, 0.65340816, 0.63302041, 0.61263265,\n",
       "        0.5922449 , 0.57185714, 0.55146939, 0.53108163, 0.51069388,\n",
       "        0.49030612, 0.46991837, 0.44953061, 0.42914286, 0.4087551 ,\n",
       "        0.38836735, 0.36797959, 0.34759184, 0.32720408, 0.30681633,\n",
       "        0.28642857, 0.26604082, 0.24565306, 0.22526531, 0.20487755,\n",
       "        0.1844898 , 0.16410204, 0.14371429, 0.12332653, 0.10293878,\n",
       "        0.08255102, 0.06216327, 0.04177551, 0.02138776, 0.001     ])}"
      ]
     },
     "execution_count": 4,
     "metadata": {},
     "output_type": "execute_result"
    }
   ],
   "source": [
    "cosmo_params = {\n",
    "    'redshift' : np.linspace(0,4),\n",
    "    'frequency': np.linspace(10e-1,10e-4)\n",
    "}\n",
    "cosmo_params"
   ]
  },
  {
   "cell_type": "code",
   "execution_count": 5,
   "id": "cca165a1",
   "metadata": {},
   "outputs": [
    {
     "data": {
      "text/plain": [
       "{'alpha': 4, 'A': 0.001}"
      ]
     },
     "execution_count": 5,
     "metadata": {},
     "output_type": "execute_result"
    }
   ],
   "source": [
    "phenom_params = {\n",
    "    'alpha' : 4,\n",
    "    'A' : .001\n",
    "}\n",
    "phenom_params"
   ]
  },
  {
   "cell_type": "code",
   "execution_count": 6,
   "id": "2b807e9e",
   "metadata": {},
   "outputs": [],
   "source": [
    "# instantiate class\n",
    "dist = distances(cosmo_params, phenom_params)"
   ]
  },
  {
   "cell_type": "code",
   "execution_count": 7,
   "id": "94284704",
   "metadata": {},
   "outputs": [
    {
     "data": {
      "text/plain": [
       "{'redshift': array([0.        , 0.08163265, 0.16326531, 0.24489796, 0.32653061,\n",
       "        0.40816327, 0.48979592, 0.57142857, 0.65306122, 0.73469388,\n",
       "        0.81632653, 0.89795918, 0.97959184, 1.06122449, 1.14285714,\n",
       "        1.2244898 , 1.30612245, 1.3877551 , 1.46938776, 1.55102041,\n",
       "        1.63265306, 1.71428571, 1.79591837, 1.87755102, 1.95918367,\n",
       "        2.04081633, 2.12244898, 2.20408163, 2.28571429, 2.36734694,\n",
       "        2.44897959, 2.53061224, 2.6122449 , 2.69387755, 2.7755102 ,\n",
       "        2.85714286, 2.93877551, 3.02040816, 3.10204082, 3.18367347,\n",
       "        3.26530612, 3.34693878, 3.42857143, 3.51020408, 3.59183673,\n",
       "        3.67346939, 3.75510204, 3.83673469, 3.91836735, 4.        ]),\n",
       " 'frequency': array([1.        , 0.97961224, 0.95922449, 0.93883673, 0.91844898,\n",
       "        0.89806122, 0.87767347, 0.85728571, 0.83689796, 0.8165102 ,\n",
       "        0.79612245, 0.77573469, 0.75534694, 0.73495918, 0.71457143,\n",
       "        0.69418367, 0.67379592, 0.65340816, 0.63302041, 0.61263265,\n",
       "        0.5922449 , 0.57185714, 0.55146939, 0.53108163, 0.51069388,\n",
       "        0.49030612, 0.46991837, 0.44953061, 0.42914286, 0.4087551 ,\n",
       "        0.38836735, 0.36797959, 0.34759184, 0.32720408, 0.30681633,\n",
       "        0.28642857, 0.26604082, 0.24565306, 0.22526531, 0.20487755,\n",
       "        0.1844898 , 0.16410204, 0.14371429, 0.12332653, 0.10293878,\n",
       "        0.08255102, 0.06216327, 0.04177551, 0.02138776, 0.001     ])}"
      ]
     },
     "execution_count": 7,
     "metadata": {},
     "output_type": "execute_result"
    }
   ],
   "source": [
    "# verify params are passed through\n",
    "dist.cosmo_params"
   ]
  },
  {
   "cell_type": "code",
   "execution_count": 8,
   "id": "a231cb81",
   "metadata": {},
   "outputs": [
    {
     "data": {
      "text/plain": [
       "4.0"
      ]
     },
     "execution_count": 8,
     "metadata": {},
     "output_type": "execute_result"
    }
   ],
   "source": [
    "# get maximum redshift\n",
    "cosmo_params['redshift'][-1]"
   ]
  },
  {
   "cell_type": "code",
   "execution_count": 9,
   "id": "2fe0d80c",
   "metadata": {},
   "outputs": [
    {
     "data": {
      "text/plain": [
       "array([0.        , 0.08163265, 0.16326531, 0.24489796, 0.32653061,\n",
       "       0.40816327, 0.48979592, 0.57142857, 0.65306122, 0.73469388,\n",
       "       0.81632653, 0.89795918, 0.97959184, 1.06122449, 1.14285714,\n",
       "       1.2244898 , 1.30612245, 1.3877551 , 1.46938776, 1.55102041,\n",
       "       1.63265306, 1.71428571, 1.79591837, 1.87755102, 1.95918367,\n",
       "       2.04081633, 2.12244898, 2.20408163, 2.28571429, 2.36734694,\n",
       "       2.44897959, 2.53061224, 2.6122449 , 2.69387755, 2.7755102 ,\n",
       "       2.85714286, 2.93877551, 3.02040816, 3.10204082, 3.18367347,\n",
       "       3.26530612, 3.34693878, 3.42857143, 3.51020408, 3.59183673,\n",
       "       3.67346939, 3.75510204, 3.83673469, 3.91836735, 4.        ])"
      ]
     },
     "execution_count": 9,
     "metadata": {},
     "output_type": "execute_result"
    }
   ],
   "source": [
    "dist.z"
   ]
  },
  {
   "cell_type": "code",
   "execution_count": 10,
   "id": "463325c8",
   "metadata": {},
   "outputs": [
    {
     "data": {
      "text/plain": [
       "array([    0.        ,   360.78705836,   760.90840132,  1196.81568524,\n",
       "        1665.15864193,  2162.83072748,  2686.99315443,  3235.08142307,\n",
       "        3804.79895958,  4394.10215784,  5001.18039167,  5624.43370723,\n",
       "        6262.45009938,  6913.98360647,  7577.93394728,  8253.32805977,\n",
       "        8939.30365694,  9635.09476237, 10340.01909927, 11053.46716294,\n",
       "       11774.89279037, 12503.80504192, 13239.76122148, 13982.36087728,\n",
       "       14731.24064317, 15486.06979828, 16246.54643928, 17012.39417475,\n",
       "       17783.35926453, 18559.20813839, 19339.72523853, 20124.71113885,\n",
       "       20913.98090126, 21707.36263518, 22504.69623194, 23305.83224965,\n",
       "       24110.63092825, 24918.96131697, 25730.70049971, 26545.73290521,\n",
       "       27363.94969149, 28185.24819507, 29009.53143691, 29836.70767838,\n",
       "       30666.69002111, 31499.39604564, 32334.74748441, 33172.66992521,\n",
       "       34013.09254172, 34855.94784809])"
      ]
     },
     "execution_count": 10,
     "metadata": {},
     "output_type": "execute_result"
    }
   ],
   "source": [
    "# calculate lumonsity distance for given cosmo params\n",
    "dist.luminosity(dist.z)"
   ]
  },
  {
   "cell_type": "code",
   "execution_count": 11,
   "id": "0031983b",
   "metadata": {},
   "outputs": [
    {
     "data": {
      "text/plain": [
       "array([    0.        ,   333.72491975,   655.42301367,   965.68524795,\n",
       "        1265.20339145,  1554.72741378,  1835.02985437,  2106.87801701,\n",
       "        2371.01373294,  2628.1397669 ,  2878.91164603,  3123.93365778,\n",
       "        3363.75788255,  3598.88531473,  3829.76832886,  4056.81393358,\n",
       "        4280.38741361,  4500.81608422,  4718.39297695,  4933.38034457,\n",
       "        5146.01292186,  5356.50091241,  5565.0326938 ,  5771.77724764,\n",
       "        5976.88632937,  6180.49639722,  6382.73032178,  6583.69889798,\n",
       "        6783.50218037,  6982.23066158,  7179.96631201,  7376.78349723,\n",
       "        7572.74978773,  7767.92667409,  7962.3701993 ,  8156.13151813,\n",
       "        8349.25739273,  8541.79063204,  8733.77048212,  8925.23297311,\n",
       "        9116.21122816,  9306.7357389 ,  9496.83461136,  9686.53378584,\n",
       "        9875.8572338 , 10064.82713438, 10253.46403288, 10441.78698325,\n",
       "       10629.81367644, 10817.56055604])"
      ]
     },
     "execution_count": 11,
     "metadata": {},
     "output_type": "execute_result"
    }
   ],
   "source": [
    "# check D_0 term for beta method\n",
    "dist.mod_luminosity(dist.z, alpha=0)"
   ]
  },
  {
   "cell_type": "code",
   "execution_count": 12,
   "id": "f701e337",
   "metadata": {},
   "outputs": [],
   "source": [
    "cosmo_params = {\n",
    "    'redshift' : np.linspace(0,4),\n",
    "    'frequency': np.linspace(10e-1,10e-4),\n",
    "    'f_e' : 1,\n",
    "    't_e' : 1,\n",
    "    't_a' : 2,\n",
    "}\n",
    "phenom_params = {\n",
    "    'A' : 1,\n",
    "    'alpha' : 4,\n",
    "    'lambda_g' : 1.6 * 10 ** 16,\n",
    "}"
   ]
  },
  {
   "cell_type": "code",
   "execution_count": 13,
   "id": "61651d5d",
   "metadata": {},
   "outputs": [
    {
     "data": {
      "text/plain": [
       "array([0., 0., 0., 0., 0., 0., 0., 0., 0., 0., 0., 0., 0., 0., 0., 0., 0.,\n",
       "       0., 0., 0., 0., 0., 0., 0., 0., 0., 0., 0., 0., 0., 0., 0., 0., 0.,\n",
       "       0., 0., 0., 0., 0., 0., 0., 0., 0., 0., 0., 0., 0., 0., 0., 0.])"
      ]
     },
     "execution_count": 13,
     "metadata": {},
     "output_type": "execute_result"
    }
   ],
   "source": [
    "dist.chi_term(dist.z)"
   ]
  },
  {
   "cell_type": "code",
   "execution_count": 14,
   "id": "238da0ea",
   "metadata": {},
   "outputs": [],
   "source": [
    "wf_params = {\n",
    "        'approximant': 'TaylorF2',\n",
    "        'mass1': 10,\n",
    "        'mass2': 15,\n",
    "        'delta_f': 1.0 / 170, \n",
    "        'f_lower': 40,\n",
    "}"
   ]
  },
  {
   "cell_type": "code",
   "execution_count": 15,
   "id": "1f4c2b7f",
   "metadata": {},
   "outputs": [],
   "source": [
    "# from fisher_analysis import fisher_analysis"
   ]
  },
  {
   "cell_type": "code",
   "execution_count": 16,
   "id": "cae325d6",
   "metadata": {},
   "outputs": [],
   "source": [
    "# fisher = fisher_analysis(cosmo_params, phenom_params, wf_params)"
   ]
  },
  {
   "cell_type": "code",
   "execution_count": 17,
   "id": "430e45d9",
   "metadata": {},
   "outputs": [],
   "source": [
    "# fisher.generate_noise()"
   ]
  },
  {
   "cell_type": "code",
   "execution_count": 18,
   "id": "39de9b53",
   "metadata": {},
   "outputs": [],
   "source": [
    "# h = fisher.get_signal()"
   ]
  },
  {
   "cell_type": "code",
   "execution_count": 19,
   "id": "8263d59b",
   "metadata": {},
   "outputs": [],
   "source": [
    "# h"
   ]
  },
  {
   "cell_type": "code",
   "execution_count": 20,
   "id": "b1817db5",
   "metadata": {},
   "outputs": [],
   "source": [
    "from modify_waveform import modify_waveform"
   ]
  },
  {
   "cell_type": "code",
   "execution_count": 21,
   "id": "1018bb18",
   "metadata": {},
   "outputs": [],
   "source": [
    "mw = modify_waveform(cosmo_params, phenom_params, wf_params)"
   ]
  },
  {
   "cell_type": "code",
   "execution_count": 22,
   "id": "26893c65",
   "metadata": {},
   "outputs": [
    {
     "data": {
      "text/plain": [
       "array([1.64294438e-03, 1.60944843e-03, 1.57595248e-03, 1.54245654e-03,\n",
       "       1.50896059e-03, 1.47546464e-03, 1.44196869e-03, 1.40847275e-03,\n",
       "       1.37497680e-03, 1.34148085e-03, 1.30798490e-03, 1.27448896e-03,\n",
       "       1.24099301e-03, 1.20749706e-03, 1.17400111e-03, 1.14050517e-03,\n",
       "       1.10700922e-03, 1.07351327e-03, 1.04001732e-03, 1.00652137e-03,\n",
       "       9.73025427e-04, 9.39529479e-04, 9.06033532e-04, 8.72537584e-04,\n",
       "       8.39041636e-04, 8.05545689e-04, 7.72049741e-04, 7.38553793e-04,\n",
       "       7.05057845e-04, 6.71561898e-04, 6.38065950e-04, 6.04570002e-04,\n",
       "       5.71074055e-04, 5.37578107e-04, 5.04082159e-04, 4.70586212e-04,\n",
       "       4.37090264e-04, 4.03594316e-04, 3.70098369e-04, 3.36602421e-04,\n",
       "       3.03106473e-04, 2.69610526e-04, 2.36114578e-04, 2.02618630e-04,\n",
       "       1.69122683e-04, 1.35626735e-04, 1.02130787e-04, 6.86348397e-05,\n",
       "       3.51388921e-05, 1.64294438e-06])"
      ]
     },
     "execution_count": 22,
     "metadata": {},
     "output_type": "execute_result"
    }
   ],
   "source": [
    "mw.u()"
   ]
  },
  {
   "cell_type": "code",
   "execution_count": 23,
   "id": "20c50aae",
   "metadata": {},
   "outputs": [
    {
     "data": {
      "text/plain": [
       "0.0005229654387065052"
      ]
     },
     "execution_count": 23,
     "metadata": {},
     "output_type": "execute_result"
    }
   ],
   "source": [
    "mw.chirp_mass"
   ]
  },
  {
   "cell_type": "code",
   "execution_count": 24,
   "id": "acf39927",
   "metadata": {},
   "outputs": [
    {
     "data": {
      "text/plain": [
       "0.00010459308774130103"
      ]
     },
     "execution_count": 24,
     "metadata": {},
     "output_type": "execute_result"
    }
   ],
   "source": [
    "# emitted chirp mass for z = 4\n",
    "cm_e = mw.chirp_mass_e(mw.z)\n",
    "cm_e"
   ]
  },
  {
   "cell_type": "code",
   "execution_count": 25,
   "id": "cf23bdac",
   "metadata": {},
   "outputs": [
    {
     "name": "stderr",
     "output_type": "stream",
     "text": [
      "/Users/michellegurevich/Desktop/gravitationalwaves/modgravity/modify_waveform.py:91: RuntimeWarning: divide by zero encountered in true_divide\n",
      "  return math.sqrt(math.pi / 30) * (self.chirp_mass ** 2 / D_L)\n"
     ]
    },
    {
     "data": {
      "text/plain": [
       "array([           inf, 2.45306658e-10, 1.16312906e-10, 7.39491206e-11,\n",
       "       5.31501715e-11, 4.09202007e-11, 3.29377346e-11, 2.73574157e-11,\n",
       "       2.32610102e-11, 2.01414224e-11, 1.76965157e-11, 1.57355339e-11,\n",
       "       1.41324028e-11, 1.28006476e-11, 1.16791025e-11, 1.07233672e-11,\n",
       "       9.90048787e-12, 9.18553160e-12, 8.55931373e-12, 8.00685126e-12,\n",
       "       7.51628648e-12, 7.07812279e-12, 6.68467248e-12, 6.32965121e-12,\n",
       "       6.00787602e-12, 5.71503736e-12, 5.44752497e-12, 5.20229349e-12,\n",
       "       4.97675755e-12, 4.76870925e-12, 4.57625258e-12, 4.39775095e-12,\n",
       "       4.23178485e-12, 4.07711747e-12, 3.93266661e-12, 3.79748153e-12,\n",
       "       3.67072383e-12, 3.55165154e-12, 3.43960583e-12, 3.33399977e-12,\n",
       "       3.23430895e-12, 3.14006344e-12, 3.05084098e-12, 2.96626117e-12,\n",
       "       2.88598044e-12, 2.80968776e-12, 2.73710093e-12, 2.66796335e-12,\n",
       "       2.60204118e-12, 2.53912095e-12])"
      ]
     },
     "execution_count": 25,
     "metadata": {},
     "output_type": "execute_result"
    }
   ],
   "source": [
    "mw.gr_amplitude()"
   ]
  },
  {
   "cell_type": "code",
   "execution_count": 26,
   "id": "835c15c6",
   "metadata": {},
   "outputs": [
    {
     "data": {
      "text/plain": [
       "array([           inf, 4.45231714e-07, 2.16352010e-07, 1.41042909e-07,\n",
       "       1.04003301e-07, 8.21966556e-08, 6.79587302e-08, 5.80143211e-08,\n",
       "       5.07322324e-08, 4.52107362e-08, 4.09120504e-08, 3.74963846e-08,\n",
       "       3.47390910e-08, 3.24861450e-08, 3.06287691e-08, 2.90882579e-08,\n",
       "       2.78065315e-08, 2.67400558e-08, 2.58558177e-08, 2.51285980e-08,\n",
       "       2.45390891e-08, 2.40725786e-08, 2.37180229e-08, 2.34673984e-08,\n",
       "       2.33152565e-08, 2.32584374e-08, 2.32959129e-08, 2.34287451e-08,\n",
       "       2.36601563e-08, 2.39957201e-08, 2.44436931e-08, 2.50155240e-08,\n",
       "       2.57266010e-08, 2.65973308e-08, 2.76546977e-08, 2.89345415e-08,\n",
       "       3.04849431e-08, 3.23713741e-08, 3.46847560e-08, 3.75545121e-08,\n",
       "       4.11705898e-08, 4.58224992e-08, 5.19728225e-08, 6.04064688e-08,\n",
       "       7.25645568e-08, 9.13948801e-08, 1.23958036e-07, 1.92107564e-07,\n",
       "       4.09161496e-07, 1.42273293e-05])"
      ]
     },
     "execution_count": 26,
     "metadata": {},
     "output_type": "execute_result"
    }
   ],
   "source": [
    "mw.modified_amplitude()"
   ]
  },
  {
   "cell_type": "code",
   "execution_count": 27,
   "id": "75af44ae",
   "metadata": {},
   "outputs": [
    {
     "data": {
      "text/plain": [
       "array([            inf           +infj, -1.48801829e-10+1.95021466e-10j,\n",
       "       -8.51736872e-12-1.16000632e-10j,  1.73539232e-11-7.18840301e-11j,\n",
       "        2.31619156e-11+4.78379180e-11j,  6.93378142e-12-4.03284701e-11j,\n",
       "       -1.23674352e-11-3.05277072e-11j,  9.71432175e-12+2.55745997e-11j,\n",
       "        8.69872567e-12+2.15732883e-11j, -1.65315417e-11-1.15058690e-11j,\n",
       "        8.62012683e-12-1.54550989e-11j,  9.70290699e-12-1.23879225e-11j,\n",
       "        1.05086410e-12-1.40932783e-11j, -5.39761578e-12-1.16069945e-11j,\n",
       "       -1.08293430e-11-4.37341587e-12j,  1.02840985e-11-3.03774937e-12j,\n",
       "       -1.14677128e-12-9.83384847e-12j, -5.20702477e-12+7.56709217e-12j,\n",
       "        6.90397531e-12-5.05934546e-12j, -1.93312582e-12+7.76998659e-12j,\n",
       "       -7.10830753e-12-2.44264742e-12j, -6.33103266e-12-3.16509838e-12j,\n",
       "       -5.88635961e-12-3.16790414e-12j, -1.20442029e-12+6.21400484e-12j,\n",
       "        2.40176484e-12-5.50691383e-12j, -5.38127262e-12-1.92446279e-12j,\n",
       "        3.52062722e-13-5.43613651e-12j,  2.33007579e-12-4.65130136e-12j,\n",
       "        1.78790864e-12+4.64451272e-12j, -2.32401405e-12+4.16407811e-12j,\n",
       "       -4.49532092e-12-8.56841560e-13j,  2.01783052e-12+3.90750219e-12j,\n",
       "       -3.79980528e-12-1.86265478e-12j, -3.13641893e-12-2.60494975e-12j,\n",
       "       -2.02308296e-12-3.37238817e-12j,  1.89931786e-12+3.28838222e-12j,\n",
       "        5.86530748e-13-3.62356111e-12j, -3.02020918e-12-1.86884060e-12j,\n",
       "       -3.15027759e-12-1.38081112e-12j,  2.71478014e-12-1.93533544e-12j,\n",
       "       -2.99480114e-12+1.22144198e-12j, -1.17765155e-12+2.91086503e-12j,\n",
       "        3.00768513e-12-5.11332424e-13j,  1.41293430e-12-2.60812615e-12j,\n",
       "        3.12677830e-14+2.88581105e-12j,  2.65061270e-13+2.79715710e-12j,\n",
       "        1.78428742e-12+2.07558182e-12j,  6.10255493e-13-2.59723250e-12j,\n",
       "        2.04754695e-12-1.60566802e-12j,  3.62299449e-13+2.51314033e-12j])"
      ]
     },
     "execution_count": 27,
     "metadata": {},
     "output_type": "execute_result"
    }
   ],
   "source": [
    "mw.h_standard()"
   ]
  },
  {
   "cell_type": "code",
   "execution_count": 28,
   "id": "4454db7d",
   "metadata": {},
   "outputs": [
    {
     "data": {
      "text/plain": [
       "50"
      ]
     },
     "execution_count": 28,
     "metadata": {},
     "output_type": "execute_result"
    }
   ],
   "source": [
    "len(mw.f)"
   ]
  },
  {
   "cell_type": "code",
   "execution_count": 29,
   "id": "6578c0bf",
   "metadata": {},
   "outputs": [
    {
     "data": {
      "text/plain": [
       "50"
      ]
     },
     "execution_count": 29,
     "metadata": {},
     "output_type": "execute_result"
    }
   ],
   "source": [
    "len(mw.h_standard())"
   ]
  },
  {
   "cell_type": "code",
   "execution_count": 30,
   "id": "604846f9",
   "metadata": {},
   "outputs": [
    {
     "name": "stderr",
     "output_type": "stream",
     "text": [
      "/Library/Frameworks/Python.framework/Versions/3.10/lib/python3.10/site-packages/matplotlib/cbook/__init__.py:1298: ComplexWarning: Casting complex values to real discards the imaginary part\n",
      "  return np.asarray(x, float)\n"
     ]
    },
    {
     "data": {
      "text/plain": [
       "[<matplotlib.lines.Line2D at 0x1274c5870>]"
      ]
     },
     "execution_count": 30,
     "metadata": {},
     "output_type": "execute_result"
    },
    {
     "data": {
      "image/png": "[encoded data removed]",
      "text/plain": [
       "<Figure size 432x288 with 1 Axes>"
      ]
     },
     "metadata": {
      "needs_background": "light"
     },
     "output_type": "display_data"
    }
   ],
   "source": [
    "plt.plot(mw.f, mw.h_standard())"
   ]
  },
  {
   "cell_type": "code",
   "execution_count": 31,
   "id": "b86b9c6b",
   "metadata": {},
   "outputs": [
    {
     "name": "stderr",
     "output_type": "stream",
     "text": [
      "/Users/michellegurevich/Desktop/gravitationalwaves/modgravity/modify_waveform.py:91: RuntimeWarning: divide by zero encountered in true_divide\n",
      "  return math.sqrt(math.pi / 30) * (self.chirp_mass ** 2 / D_L)\n",
      "/Users/michellegurevich/Desktop/gravitationalwaves/modgravity/modify_waveform.py:71: RuntimeWarning: divide by zero encountered in power\n",
      "  term_ii = D_alpha / np.power(self.lambda_A(), (2 - self.alpha))\n",
      "/Library/Frameworks/Python.framework/Versions/3.10/lib/python3.10/site-packages/matplotlib/cbook/__init__.py:1298: ComplexWarning: Casting complex values to real discards the imaginary part\n",
      "  return np.asarray(x, float)\n"
     ]
    },
    {
     "data": {
      "text/plain": [
       "[<matplotlib.lines.Line2D at 0x1275d2b30>]"
      ]
     },
     "execution_count": 31,
     "metadata": {},
     "output_type": "execute_result"
    },
    {
     "data": {
      "image/png": "[encoded data removed]",
      "text/plain": [
       "<Figure size 432x288 with 1 Axes>"
      ]
     },
     "metadata": {
      "needs_background": "light"
     },
     "output_type": "display_data"
    }
   ],
   "source": [
    "plt.plot(mw.f, mw.h_modified())"
   ]
  },
  {
   "cell_type": "code",
   "execution_count": 32,
   "id": "6bdc3ecf",
   "metadata": {},
   "outputs": [
    {
     "name": "stderr",
     "output_type": "stream",
     "text": [
      "/Users/michellegurevich/Desktop/gravitationalwaves/modgravity/modify_waveform.py:91: RuntimeWarning: divide by zero encountered in true_divide\n",
      "  return math.sqrt(math.pi / 30) * (self.chirp_mass ** 2 / D_L)\n",
      "/Users/michellegurevich/Desktop/gravitationalwaves/modgravity/modify_waveform.py:71: RuntimeWarning: divide by zero encountered in power\n",
      "  term_ii = D_alpha / np.power(self.lambda_A(), (2 - self.alpha))\n",
      "/var/folders/9r/_r05m5k11w16t9gxs95gprd00000gn/T/ipykernel_12093/709301404.py:1: RuntimeWarning: invalid value encountered in true_divide\n",
      "  plt.plot(mw.f, mw.h_modified()/mw.h_standard())\n",
      "/Library/Frameworks/Python.framework/Versions/3.10/lib/python3.10/site-packages/matplotlib/cbook/__init__.py:1298: ComplexWarning: Casting complex values to real discards the imaginary part\n",
      "  return np.asarray(x, float)\n"
     ]
    },
    {
     "data": {
      "text/plain": [
       "[<matplotlib.lines.Line2D at 0x1276421a0>]"
      ]
     },
     "execution_count": 32,
     "metadata": {},
     "output_type": "execute_result"
    },
    {
     "data": {
      "image/png": "[encoded data removed]",
      "text/plain": [
       "<Figure size 432x288 with 1 Axes>"
      ]
     },
     "metadata": {
      "needs_background": "light"
     },
     "output_type": "display_data"
    }
   ],
   "source": [
    "plt.plot(mw.f, mw.h_standard()/mw.h_modified())"
   ]
  },
  {
   "cell_type": "code",
   "execution_count": null,
   "id": "6f3c4a2b",
   "metadata": {},
   "outputs": [],
   "source": []
  }
 ],
 "metadata": {
  "kernelspec": {
   "display_name": "Python 3 (ipykernel)",
   "language": "python",
   "name": "python3"
  },
  "language_info": {
   "codemirror_mode": {
    "name": "ipython",
    "version": 3
   },
   "file_extension": ".py",
   "mimetype": "text/x-python",
   "name": "python",
   "nbconvert_exporter": "python",
   "pygments_lexer": "ipython3",
   "version": "3.10.2"
  }
 },
 "nbformat": 4,
 "nbformat_minor": 5
}
