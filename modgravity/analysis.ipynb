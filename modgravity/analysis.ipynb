{
 "cells": [
  {
   "cell_type": "code",
   "execution_count": 1,
   "id": "e5e58655",
   "metadata": {},
   "outputs": [],
   "source": [
    "# cosmology library imports\n",
    "import camb \n",
    "# import pycbc"
   ]
  },
  {
   "cell_type": "code",
   "execution_count": 2,
   "id": "2bcfe60f",
   "metadata": {},
   "outputs": [],
   "source": [
    "# standard library imports\n",
    "import numpy as np\n",
    "import matplotlib.pyplot as plt"
   ]
  },
  {
   "cell_type": "code",
   "execution_count": 3,
   "id": "412b7c76",
   "metadata": {},
   "outputs": [],
   "source": [
    "from distances import distances"
   ]
  },
  {
   "cell_type": "code",
   "execution_count": 4,
   "id": "cf2cd259",
   "metadata": {},
   "outputs": [],
   "source": [
    "cosmo_params = {\n",
    "    'redshift' : np.linspace(0,4),\n",
    "    'frequency': np.linspace(10e-1,10e-4)\n",
    "}\n",
    "# cosmo_params"
   ]
  },
  {
   "cell_type": "code",
   "execution_count": 5,
   "id": "cca165a1",
   "metadata": {},
   "outputs": [],
   "source": [
    "phenom_params = {\n",
    "    'alpha' : 4,\n",
    "    'A' : .001\n",
    "}\n",
    "# phenom_params"
   ]
  },
  {
   "cell_type": "code",
   "execution_count": 6,
   "id": "2b807e9e",
   "metadata": {},
   "outputs": [],
   "source": [
    "# instantiate class\n",
    "dist = distances(cosmo_params, phenom_params)"
   ]
  },
  {
   "cell_type": "code",
   "execution_count": 7,
   "id": "94284704",
   "metadata": {},
   "outputs": [],
   "source": [
    "# verify params are passed through\n",
    "# dist.cosmo_params"
   ]
  },
  {
   "cell_type": "code",
   "execution_count": 8,
   "id": "a231cb81",
   "metadata": {},
   "outputs": [
    {
     "data": {
      "text/plain": [
       "4.0"
      ]
     },
     "execution_count": 8,
     "metadata": {},
     "output_type": "execute_result"
    }
   ],
   "source": [
    "# get maximum redshift\n",
    "cosmo_params['redshift'][-1]"
   ]
  },
  {
   "cell_type": "markdown",
   "id": "a76f41a8",
   "metadata": {},
   "source": [
    "## Distance metric checks"
   ]
  },
  {
   "cell_type": "code",
   "execution_count": 9,
   "id": "2fe0d80c",
   "metadata": {},
   "outputs": [],
   "source": [
    "# dist.z"
   ]
  },
  {
   "cell_type": "code",
   "execution_count": 10,
   "id": "463325c8",
   "metadata": {},
   "outputs": [],
   "source": [
    "# calculate lumonsity distance for given cosmo params\n",
    "# dist.luminosity(dist.z)"
   ]
  },
  {
   "cell_type": "code",
   "execution_count": 11,
   "id": "0031983b",
   "metadata": {},
   "outputs": [],
   "source": [
    "# check D_0 term for beta method\n",
    "# dist.mod_luminosity(dist.z, alpha=0)"
   ]
  },
  {
   "cell_type": "code",
   "execution_count": 12,
   "id": "f701e337",
   "metadata": {},
   "outputs": [],
   "source": [
    "cosmo_params = {\n",
    "    'redshift' : np.linspace(0,4),\n",
    "    'frequency': np.linspace(10e-1,10e-4),\n",
    "    'f_e' : 1,\n",
    "    't_e' : 1,\n",
    "    't_a' : 2,\n",
    "}\n",
    "phenom_params = {\n",
    "    'A' : 1,\n",
    "    'alpha' : 4,\n",
    "    'lambda_g' : 1.6 * 10 ** 16,\n",
    "}"
   ]
  },
  {
   "cell_type": "code",
   "execution_count": 13,
   "id": "238da0ea",
   "metadata": {},
   "outputs": [],
   "source": [
    "wf_params = {\n",
    "        'approximant': 'TaylorF2',\n",
    "        'mass1': 10,\n",
    "        'mass2': 15,\n",
    "        'delta_f': 1.0 / 170, \n",
    "        'f_lower': 40,\n",
    "}"
   ]
  },
  {
   "cell_type": "code",
   "execution_count": 14,
   "id": "1f4c2b7f",
   "metadata": {},
   "outputs": [],
   "source": [
    "# from fisher_analysis import fisher_analysis"
   ]
  },
  {
   "cell_type": "code",
   "execution_count": 15,
   "id": "cae325d6",
   "metadata": {},
   "outputs": [],
   "source": [
    "# fisher = fisher_analysis(cosmo_params, phenom_params, wf_params)"
   ]
  },
  {
   "cell_type": "code",
   "execution_count": 16,
   "id": "430e45d9",
   "metadata": {},
   "outputs": [],
   "source": [
    "# fisher.generate_noise()"
   ]
  },
  {
   "cell_type": "code",
   "execution_count": 17,
   "id": "39de9b53",
   "metadata": {},
   "outputs": [],
   "source": [
    "# h = fisher.get_signal()"
   ]
  },
  {
   "cell_type": "code",
   "execution_count": 18,
   "id": "8263d59b",
   "metadata": {},
   "outputs": [],
   "source": [
    "# h"
   ]
  },
  {
   "cell_type": "markdown",
   "id": "69b9ad85",
   "metadata": {},
   "source": [
    "## Waveform plots"
   ]
  },
  {
   "cell_type": "code",
   "execution_count": 19,
   "id": "b1817db5",
   "metadata": {},
   "outputs": [],
   "source": [
    "from waveforms import waveforms"
   ]
  },
  {
   "cell_type": "code",
   "execution_count": 20,
   "id": "1018bb18",
   "metadata": {},
   "outputs": [],
   "source": [
    "wf = waveforms(cosmo_params, phenom_params, wf_params)"
   ]
  },
  {
   "cell_type": "code",
   "execution_count": 21,
   "id": "26893c65",
   "metadata": {},
   "outputs": [],
   "source": [
    "# wf.u()"
   ]
  },
  {
   "cell_type": "code",
   "execution_count": 22,
   "id": "20c50aae",
   "metadata": {},
   "outputs": [
    {
     "data": {
      "text/plain": [
       "0.0005229654387065052"
      ]
     },
     "execution_count": 22,
     "metadata": {},
     "output_type": "execute_result"
    }
   ],
   "source": [
    "wf.chirp_mass"
   ]
  },
  {
   "cell_type": "code",
   "execution_count": 23,
   "id": "acf39927",
   "metadata": {},
   "outputs": [
    {
     "data": {
      "text/plain": [
       "0.00010459308774130103"
      ]
     },
     "execution_count": 23,
     "metadata": {},
     "output_type": "execute_result"
    }
   ],
   "source": [
    "# emitted chirp mass for z = 4\n",
    "cm_e = wf.chirp_mass_e(wf.z)\n",
    "cm_e"
   ]
  },
  {
   "cell_type": "code",
   "execution_count": 24,
   "id": "cf23bdac",
   "metadata": {},
   "outputs": [
    {
     "name": "stderr",
     "output_type": "stream",
     "text": [
      "/Users/michellegurevich/Desktop/gravitationalwaves/modgravity/waveforms.py:95: RuntimeWarning: divide by zero encountered in true_divide\n",
      "  return math.sqrt(math.pi / 30) * (self.chirp_mass ** 2 / D_L)\n"
     ]
    }
   ],
   "source": [
    "h_re, h_im = wf.h_standard()"
   ]
  },
  {
   "cell_type": "code",
   "execution_count": 25,
   "id": "835c15c6",
   "metadata": {},
   "outputs": [],
   "source": [
    "h_tilde_re, h_tilde_im = wf.h_modified()"
   ]
  },
  {
   "cell_type": "code",
   "execution_count": 26,
   "id": "75af44ae",
   "metadata": {},
   "outputs": [
    {
     "data": {
      "text/plain": [
       "[<matplotlib.lines.Line2D at 0x127472770>]"
      ]
     },
     "execution_count": 26,
     "metadata": {},
     "output_type": "execute_result"
    },
    {
     "data": {
      "image/png": "[encoded data removed]",
      "text/plain": [
       "<Figure size 432x288 with 1 Axes>"
      ]
     },
     "metadata": {
      "needs_background": "light"
     },
     "output_type": "display_data"
    }
   ],
   "source": [
    "plt.plot(wf.f, h_tilde_re/h_re)"
   ]
  },
  {
   "cell_type": "markdown",
   "id": "1fc50192",
   "metadata": {},
   "source": [
    "## Plots of amplitude and phase"
   ]
  },
  {
   "cell_type": "code",
   "execution_count": 27,
   "id": "962b38e4-eb54-4047-bc7e-2e0052589e51",
   "metadata": {},
   "outputs": [
    {
     "name": "stderr",
     "output_type": "stream",
     "text": [
      "/Users/michellegurevich/Desktop/gravitationalwaves/modgravity/waveforms.py:95: RuntimeWarning: divide by zero encountered in true_divide\n",
      "  return math.sqrt(math.pi / 30) * (self.chirp_mass ** 2 / D_L)\n"
     ]
    }
   ],
   "source": [
    "amplitude, phase = wf.decompose()"
   ]
  },
  {
   "cell_type": "code",
   "execution_count": 28,
   "id": "089c3ad5-9868-44c5-80d4-226a02098be5",
   "metadata": {},
   "outputs": [
    {
     "data": {
      "text/plain": [
       "[<matplotlib.lines.Line2D at 0x1277ae3e0>]"
      ]
     },
     "execution_count": 28,
     "metadata": {},
     "output_type": "execute_result"
    },
    {
     "data": {
      "image/png": "[encoded data removed]",
      "text/plain": [
       "<Figure size 432x288 with 1 Axes>"
      ]
     },
     "metadata": {
      "needs_background": "light"
     },
     "output_type": "display_data"
    }
   ],
   "source": [
    "plt.plot(wf.f, amplitude)"
   ]
  },
  {
   "cell_type": "code",
   "execution_count": 29,
   "id": "319d3584",
   "metadata": {},
   "outputs": [
    {
     "data": {
      "text/plain": [
       "[<matplotlib.lines.Line2D at 0x134039cc0>]"
      ]
     },
     "execution_count": 29,
     "metadata": {},
     "output_type": "execute_result"
    },
    {
     "data": {
      "image/png": "[encoded data removed]",
      "text/plain": [
       "<Figure size 432x288 with 1 Axes>"
      ]
     },
     "metadata": {
      "needs_background": "light"
     },
     "output_type": "display_data"
    }
   ],
   "source": [
    "plt.plot(wf.f, phase)"
   ]
  }
 ],
 "metadata": {
  "kernelspec": {
   "display_name": "Python 3 (ipykernel)",
   "language": "python",
   "name": "python3"
  },
  "language_info": {
   "codemirror_mode": {
    "name": "ipython",
    "version": 3
   },
   "file_extension": ".py",
   "mimetype": "text/x-python",
   "name": "python",
   "nbconvert_exporter": "python",
   "pygments_lexer": "ipython3",
   "version": "3.10.2"
  }
 },
 "nbformat": 4,
 "nbformat_minor": 5
}
