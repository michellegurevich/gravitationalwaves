{
 "cells": [
  {
   "cell_type": "markdown",
   "id": "514cb06c",
   "metadata": {},
   "source": [
    "# Fisher analysis"
   ]
  },
  {
   "cell_type": "code",
   "execution_count": 1,
   "id": "46a341a5-8f8e-4842-8b60-c84d28fe23fe",
   "metadata": {},
   "outputs": [],
   "source": [
    "# standard library imports\n",
    "import math\n",
    "import numpy as np\n",
    "# import schnell as snl\n",
    "import matplotlib.pyplot as plt\n",
    "from scipy.integrate import quad\n",
    "from scipy.integrate import simpson as simps\n",
    "from scipy.fft import fft\n",
    "\n",
    "# dependent file imports\n",
    "from fisher_analysis import fisher_analysis"
   ]
  },
  {
   "cell_type": "markdown",
   "id": "cc76cd28",
   "metadata": {},
   "source": [
    "## Define parameters, instantiate classes"
   ]
  },
  {
   "cell_type": "code",
   "execution_count": 2,
   "id": "bf78d709-6d30-4fc0-9c8b-83f9a9661d1f",
   "metadata": {},
   "outputs": [],
   "source": [
    "cosmo_params = {\n",
    "    'redshift' : np.linspace(0,4),\n",
    "    'frequency': np.linspace(10**0,10**4),\n",
    "    'f_e' : 1,\n",
    "    't_e' : 1,\n",
    "    't_a' : 2,\n",
    "}\n",
    "phenom_params = {\n",
    "    'A' : 1,\n",
    "    'alpha' : 4,\n",
    "    'lambda_g' : 1.6 * 10 ** 16,\n",
    "}\n",
    "wf_params = {\n",
    "        'approximant': 'TaylorF2',\n",
    "        'mass1': 10,\n",
    "        'mass2': 15,\n",
    "        'delta_f': 1.0 / 170, \n",
    "        'f_lower': 40,\n",
    "}"
   ]
  },
  {
   "cell_type": "code",
   "execution_count": 3,
   "id": "9ae05c89-f827-4492-abab-56baac4bb16b",
   "metadata": {},
   "outputs": [
    {
     "data": {
      "text/plain": [
       "{'A': 1, 'alpha': 4, 'lambda_g': 1.6e+16}"
      ]
     },
     "execution_count": 3,
     "metadata": {},
     "output_type": "execute_result"
    }
   ],
   "source": [
    "fisher = fisher_analysis(cosmo_params, phenom_params, wf_params)\n",
    "fisher.wf.phenom_params"
   ]
  },
  {
   "cell_type": "markdown",
   "id": "ffa041aa",
   "metadata": {},
   "source": [
    "## Retrieve modified signal"
   ]
  },
  {
   "cell_type": "code",
   "execution_count": 4,
   "id": "e04f055d-2240-4c9a-8861-035a5aa21cc9",
   "metadata": {},
   "outputs": [
    {
     "name": "stderr",
     "output_type": "stream",
     "text": [
      "/Users/michellegurevich/Desktop/gravitationalwaves/modgravity/waveforms.py:91: RuntimeWarning: divide by zero encountered in true_divide\n",
      "  return math.sqrt(math.pi / 30) * (self.chirp_mass ** 2 / D_L)\n",
      "/Users/michellegurevich/Desktop/gravitationalwaves/modgravity/waveforms.py:71: RuntimeWarning: divide by zero encountered in power\n",
      "  term_ii = D_alpha / np.power(self.lambda_A(), (2 - self.alpha))\n"
     ]
    }
   ],
   "source": [
    "h_plus, h_cross = fisher.wf.h_modified()"
   ]
  },
  {
   "cell_type": "code",
   "execution_count": 5,
   "id": "68f5cd7d",
   "metadata": {},
   "outputs": [],
   "source": [
    "# arr = [-np.inf]\n",
    "# print(\"\\nTest modified signal array for positive or negative infinity:\", True if any(np.isinf(arr)) else False)"
   ]
  },
  {
   "cell_type": "code",
   "execution_count": 6,
   "id": "3f7fbbf8",
   "metadata": {},
   "outputs": [
    {
     "name": "stdout",
     "output_type": "stream",
     "text": [
      "\n",
      "Test modified signal array for positive or negative infinity: False\n"
     ]
    }
   ],
   "source": [
    "print(\"\\nTest modified signal array for positive or negative infinity:\", True if any(np.isinf(h_plus)) or any(np.isinf(h_cross)) else False)"
   ]
  },
  {
   "cell_type": "code",
   "execution_count": 7,
   "id": "3404f132-9d76-4000-b230-b9ea11049d6f",
   "metadata": {},
   "outputs": [
    {
     "data": {
      "text/plain": [
       "array([ 0.00000000e+00, -8.40576929e-10,  1.65049930e-10, -4.64457370e-11,\n",
       "        3.39251192e-12,  1.98710460e-11,  1.45597955e-11,  9.75830717e-12,\n",
       "        6.72373215e-12,  4.83154662e-12,  3.60803699e-12,  2.78262301e-12,\n",
       "        2.20369465e-12,  1.78378493e-12,  1.47040695e-12,  1.23080633e-12,\n",
       "        1.04379394e-12,  8.95215128e-13,  7.75342343e-13,  6.77321293e-13,\n",
       "        5.96214485e-13,  5.28394981e-13,  4.71151775e-13,  4.22426720e-13,\n",
       "        3.80635319e-13,  3.44542228e-13,  3.13173237e-13,  2.85752022e-13,\n",
       "        2.61654024e-13,  2.40372366e-13,  2.21492347e-13,  2.04672149e-13,\n",
       "        1.89628069e-13,  1.76123128e-13,  1.63958182e-13,  1.52964947e-13,\n",
       "        1.43000467e-13,  1.33942706e-13,  1.25687002e-13,  1.18143200e-13,\n",
       "        1.11233326e-13,  1.04889670e-13,  9.90532277e-14,  9.36723923e-14,\n",
       "        8.87018823e-14,  8.41018386e-14,  7.98370694e-14,  7.58764151e-14,\n",
       "        7.21922099e-14,  6.87598262e-14])"
      ]
     },
     "execution_count": 7,
     "metadata": {},
     "output_type": "execute_result"
    }
   ],
   "source": [
    "h_plus"
   ]
  },
  {
   "cell_type": "code",
   "execution_count": 8,
   "id": "d71cc45a-a2fe-45ae-a6a1-e455d4e213a4",
   "metadata": {},
   "outputs": [
    {
     "data": {
      "text/plain": [
       "array([ 0.00000000e+00, -2.35245630e-10,  8.33163726e-11, -5.67244555e-11,\n",
       "        3.75347663e-11,  1.02775096e-11, -3.26596479e-14, -2.62025211e-12,\n",
       "       -2.97491355e-12, -2.72995926e-12, -2.36147671e-12, -2.00713084e-12,\n",
       "       -1.70144204e-12, -1.44716687e-12, -1.23807024e-12, -1.06630976e-12,\n",
       "       -9.24708553e-13, -8.07298776e-13, -7.09299092e-13, -6.26933553e-13,\n",
       "       -5.57231866e-13, -4.97854357e-13, -4.46950534e-13, -4.03048712e-13,\n",
       "       -3.64971156e-13, -3.31769218e-13, -3.02673744e-13, -2.77057071e-13,\n",
       "       -2.54403772e-13, -2.34288012e-13, -2.16355924e-13, -2.00311807e-13,\n",
       "       -1.85907252e-13, -1.72932523e-13, -1.61209679e-13, -1.50587064e-13,\n",
       "       -1.40934856e-13, -1.32141466e-13, -1.24110593e-13, -1.16758815e-13,\n",
       "       -1.10013611e-13, -1.03811714e-13, -9.80977529e-14, -9.28231126e-14,\n",
       "       -8.79449831e-14, -8.34255571e-14, -7.92313536e-14, -7.53326448e-14,\n",
       "       -7.17029687e-14, -6.83187127e-14])"
      ]
     },
     "execution_count": 8,
     "metadata": {},
     "output_type": "execute_result"
    }
   ],
   "source": [
    "h_cross"
   ]
  },
  {
   "cell_type": "markdown",
   "id": "e2bab9b6",
   "metadata": {},
   "source": [
    "## Compute noise power spectrum"
   ]
  },
  {
   "cell_type": "code",
   "execution_count": 9,
   "id": "6301939d-fd03-4b59-b26b-6a920be9726c",
   "metadata": {},
   "outputs": [],
   "source": [
    "f = cosmo_params['frequency']"
   ]
  },
  {
   "cell_type": "code",
   "execution_count": 10,
   "id": "219f7e34-8b72-49cc-94a2-d266e8a99d5a",
   "metadata": {},
   "outputs": [],
   "source": [
    "# use schNell to generate noise power spectrum for LIGO detector"
   ]
  },
  {
   "cell_type": "code",
   "execution_count": 11,
   "id": "47cbe0d3",
   "metadata": {},
   "outputs": [],
   "source": [
    "# nside = 64\n",
    "# obs_time = 365 * 24 * 3600\n",
    "# freqs = f\n",
    "\n",
    "# nl = mc.get_N_ell(obs_time, freqs, nside, no_autos=True)\n",
    "## Just for show, let's also calculate the N_ell you'd get\n",
    "## if both detectors had a 50% correlation coefficient.\n",
    "# nl_0p5 = mc0p5.get_N_ell(obs_time, freqs, nside, no_autos=True)\n",
    "\n",
    "## Plotting time!\n",
    "# ls = np.arange(3 * nside)\n",
    "# plt.figure()\n",
    "# plt.plot(ls, nl, label=r'$r=0$')\n",
    "# plt.plot(ls, nl_0p5, label=r'$r=0.5$')\n",
    "# plt.xlim([1, 100])\n",
    "# plt.ylim([3E-20, 1E-10])\n",
    "# plt.legend(loc='upper left')\n",
    "# plt.xlabel(r'$\\ell$', fontsize=16)\n",
    "# plt.ylabel(r'$N_\\ell$', fontsize=16)\n",
    "# plt.loglog();"
   ]
  },
  {
   "cell_type": "code",
   "execution_count": 12,
   "id": "08986835",
   "metadata": {},
   "outputs": [],
   "source": [
    "# using scipy implementation of welch method"
   ]
  },
  {
   "cell_type": "code",
   "execution_count": 13,
   "id": "b78aa7ad",
   "metadata": {},
   "outputs": [],
   "source": [
    "# using pypot psd function"
   ]
  },
  {
   "cell_type": "code",
   "execution_count": 14,
   "id": "4271f223",
   "metadata": {},
   "outputs": [],
   "source": [
    "# a0 = plt.plot(f)\n",
    "# plt.plot(f, NFFT = 301, Fs = 2, pad_to = 1024, scale_by_freq = True)"
   ]
  },
  {
   "cell_type": "markdown",
   "id": "ea3ecdea",
   "metadata": {},
   "source": [
    "### LIGO"
   ]
  },
  {
   "cell_type": "code",
   "execution_count": 15,
   "id": "6fe69792",
   "metadata": {},
   "outputs": [],
   "source": [
    "# using source [66] (arXiv:1005.0304)"
   ]
  },
  {
   "cell_type": "code",
   "execution_count": 16,
   "id": "fc761d73",
   "metadata": {},
   "outputs": [],
   "source": [
    "S_0 = 10**(-49) # 1/Hz\n",
    "f_0 = 215 # Hz\n",
    "f_s = 10 # Hz (low energy cuttoff)\n",
    "x = f / f_0"
   ]
  },
  {
   "cell_type": "code",
   "execution_count": 17,
   "id": "c379c9fb",
   "metadata": {},
   "outputs": [],
   "source": [
    "exp = 16 - 4 * (x * f_0 - 7.9)**2\n",
    "poly = (1 - 0.23 * x**2 + 0.0764 * x**4) / (1 + 0.17 * x**2)"
   ]
  },
  {
   "cell_type": "code",
   "execution_count": 18,
   "id": "12cbb3af",
   "metadata": {},
   "outputs": [],
   "source": [
    "snd = lambda x : S_0 * ( 10**exp + 2.4 * 10**(-62) * x**(-50) + 0.08 * x**(-4.69) + 123.35 * poly)"
   ]
  },
  {
   "cell_type": "code",
   "execution_count": 19,
   "id": "75469abc",
   "metadata": {},
   "outputs": [
    {
     "data": {
      "text/plain": [
       "[<matplotlib.lines.Line2D at 0x11edf5780>]"
      ]
     },
     "execution_count": 19,
     "metadata": {},
     "output_type": "execute_result"
    },
    {
     "data": {
      "image/png": "[encoded data removed]",
      "text/plain": [
       "<Figure size 432x288 with 1 Axes>"
      ]
     },
     "metadata": {
      "needs_background": "light"
     },
     "output_type": "display_data"
    }
   ],
   "source": [
    "plt.loglog(f, snd(f))"
   ]
  },
  {
   "cell_type": "markdown",
   "id": "6712d287",
   "metadata": {},
   "source": [
    "### ET"
   ]
  },
  {
   "cell_type": "code",
   "execution_count": 20,
   "id": "9a487401",
   "metadata": {},
   "outputs": [],
   "source": [
    "S_0_ET = 10**(-50) # 1 / Hz\n",
    "f_0_ET = 100 # Hz\n",
    "f_s = 1 # Hz (low energy cutoff)\n",
    "f_ET = np.linspace(10**0, 10**4)\n",
    "x = f_ET / f_0_ET"
   ]
  },
  {
   "cell_type": "code",
   "execution_count": 21,
   "id": "467f8e04",
   "metadata": {},
   "outputs": [],
   "source": [
    "csts = [2.39 * 10**(-27), 0.349, 1.76, 0.409]\n",
    "exps = [-15.64, -2.145, -0.12, 1.10]\n",
    "for i,j in zip(csts, exps):\n",
    "    poly += i * x **j\n",
    "snd_ET = S_0 * poly**2"
   ]
  },
  {
   "cell_type": "code",
   "execution_count": 22,
   "id": "f6759bec",
   "metadata": {},
   "outputs": [
    {
     "data": {
      "text/plain": [
       "[<matplotlib.lines.Line2D at 0x11ffa2230>]"
      ]
     },
     "execution_count": 22,
     "metadata": {},
     "output_type": "execute_result"
    },
    {
     "data": {
      "image/png": "[encoded data removed]",
      "text/plain": [
       "<Figure size 432x288 with 1 Axes>"
      ]
     },
     "metadata": {
      "needs_background": "light"
     },
     "output_type": "display_data"
    }
   ],
   "source": [
    "plt.loglog(f_ET, snd_ET)"
   ]
  },
  {
   "cell_type": "markdown",
   "id": "0b753419",
   "metadata": {},
   "source": [
    "## Integrated signal"
   ]
  },
  {
   "cell_type": "code",
   "execution_count": 23,
   "id": "90063c8b",
   "metadata": {},
   "outputs": [],
   "source": [
    "# DOI: 10.1016/j.measurement.2014.09.004"
   ]
  },
  {
   "cell_type": "code",
   "execution_count": null,
   "id": "a596be7a",
   "metadata": {},
   "outputs": [],
   "source": []
  },
  {
   "cell_type": "code",
   "execution_count": null,
   "id": "fdfc8cb2",
   "metadata": {},
   "outputs": [],
   "source": []
  },
  {
   "cell_type": "markdown",
   "id": "3f2223b7",
   "metadata": {},
   "source": [
    "## Partial derivatives"
   ]
  },
  {
   "cell_type": "code",
   "execution_count": 24,
   "id": "dee24ad7",
   "metadata": {},
   "outputs": [],
   "source": [
    "wf = fisher.wf"
   ]
  },
  {
   "cell_type": "code",
   "execution_count": 25,
   "id": "7eccba87",
   "metadata": {},
   "outputs": [],
   "source": [
    "f_max = 6**(-3/2) * math.pi**(-1) * wf.eta**(3/5) * wf.chirp_mass**(-1)"
   ]
  },
  {
   "cell_type": "code",
   "execution_count": 26,
   "id": "7155333e",
   "metadata": {},
   "outputs": [],
   "source": [
    "# paper says (10**5, 10**3, 1) for LIGO, ET, LISA-like"
   ]
  },
  {
   "cell_type": "markdown",
   "id": "7dcf3351",
   "metadata": {},
   "source": [
    "### For phenomenological parameters"
   ]
  },
  {
   "cell_type": "code",
   "execution_count": 27,
   "id": "8fc76a4d",
   "metadata": {},
   "outputs": [],
   "source": [
    "g = lambda x : 10**exp + 2.4 * 10**(-62) * x**(-50) + 0.08 * x**(-4.69) + 123.35 * poly"
   ]
  },
  {
   "cell_type": "code",
   "execution_count": 28,
   "id": "20b9d58d",
   "metadata": {},
   "outputs": [
    {
     "data": {
      "text/plain": [
       "array([4.16666667e-39, 2.43435229e-03, 1.95197554e-03, 1.31066275e-03,\n",
       "       8.58966202e-04, 5.88251783e-04, 4.24200097e-04, 3.19632487e-04,\n",
       "       2.49439963e-04, 2.00168917e-04, 1.64276978e-04, 1.37317888e-04,\n",
       "       1.16545871e-04, 1.00194567e-04, 8.70867510e-05, 7.64134622e-05,\n",
       "       6.76038498e-05, 6.02456482e-05, 5.40350024e-05, 4.87438978e-05,\n",
       "       4.41984722e-05, 4.02642452e-05, 3.68358502e-05, 3.38297656e-05,\n",
       "       3.11790821e-05, 2.88296794e-05, 2.67373935e-05, 2.48658909e-05,\n",
       "       2.31850561e-05, 2.16697534e-05, 2.02988683e-05, 1.90545577e-05,\n",
       "       1.79216587e-05, 1.68872183e-05, 1.59401174e-05, 1.50707670e-05,\n",
       "       1.42708618e-05, 1.35331790e-05, 1.28514128e-05, 1.22200384e-05,\n",
       "       1.16341980e-05, 1.10896065e-05, 1.05824722e-05, 1.01094302e-05,\n",
       "       9.66748561e-06, 9.25396602e-06, 8.86648045e-06, 8.50288456e-06,\n",
       "       8.16125065e-06, 7.83984193e-06])"
      ]
     },
     "execution_count": 28,
     "metadata": {},
     "output_type": "execute_result"
    }
   ],
   "source": [
    "1/g(x)"
   ]
  },
  {
   "cell_type": "code",
   "execution_count": 29,
   "id": "b13c4122",
   "metadata": {},
   "outputs": [],
   "source": [
    "# integrand = lambda q : x**(-q/3) / g(x)\n",
    "integrand = lambda q : q "
   ]
  },
  {
   "cell_type": "code",
   "execution_count": 30,
   "id": "afe5fa75",
   "metadata": {},
   "outputs": [
    {
     "name": "stderr",
     "output_type": "stream",
     "text": [
      "/var/folders/9r/_r05m5k11w16t9gxs95gprd00000gn/T/ipykernel_54654/3349258680.py:1: IntegrationWarning: The integral is probably divergent, or slowly convergent.\n",
      "  moment = quad(integrand, 0, np.inf)\n"
     ]
    },
    {
     "data": {
      "text/plain": [
       "(0.4999999961769933, 5.7336234760563265e-06)"
      ]
     },
     "execution_count": 30,
     "metadata": {},
     "output_type": "execute_result"
    }
   ],
   "source": [
    "moment = quad(integrand, 0, np.inf)\n",
    "moment"
   ]
  },
  {
   "cell_type": "code",
   "execution_count": 31,
   "id": "59b11ef2",
   "metadata": {},
   "outputs": [],
   "source": [
    "# since it is a moment perhaps it should be taken for discrete values of q..."
   ]
  },
  {
   "cell_type": "code",
   "execution_count": 32,
   "id": "6aaf233e",
   "metadata": {},
   "outputs": [],
   "source": [
    "integrand = x**(-7/3) / g(x)\n",
    "integrand\n",
    "moment = simps(integrand)\n",
    "# need to update moment to improper integration"
   ]
  },
  {
   "cell_type": "code",
   "execution_count": 33,
   "id": "ce859016",
   "metadata": {},
   "outputs": [
    {
     "name": "stderr",
     "output_type": "stream",
     "text": [
      "/Users/michellegurevich/Desktop/gravitationalwaves/modgravity/waveforms.py:91: RuntimeWarning: divide by zero encountered in true_divide\n",
      "  return math.sqrt(math.pi / 30) * (self.chirp_mass ** 2 / D_L)\n"
     ]
    }
   ],
   "source": [
    "A, _ = wf.decompose()\n",
    "np.nan_to_num(A, copy=False, nan=0.0, posinf=0.0, neginf=0.0)\n",
    "rho = 2 * wf.eta * A * (wf.chirp_mass * math.pi)**(-7/6) * f_0**(-2/3) * moment**(1/2) * S_0**(-1/2)"
   ]
  },
  {
   "cell_type": "code",
   "execution_count": 34,
   "id": "bd63672c",
   "metadata": {},
   "outputs": [],
   "source": [
    "new_amp = rho / (2 * wf.eta * (wf.chirp_mass * math.pi)**(-7/6) * f_0**(-2/3) * moment**(1/2) * S_0**(-1/2))"
   ]
  },
  {
   "cell_type": "code",
   "execution_count": 35,
   "id": "a5c4a516",
   "metadata": {},
   "outputs": [],
   "source": [
    "for i in range(len(A)):\n",
    "    print(math.isclose(A[i], new_amp[i], rel_tol=.00001)) if False else 0"
   ]
  },
  {
   "cell_type": "code",
   "execution_count": 36,
   "id": "aca68f66",
   "metadata": {},
   "outputs": [],
   "source": [
    "new_amp = np.nan_to_num(new_amp, copy=False, nan=0.0, posinf=0.0, neginf=0.0)"
   ]
  },
  {
   "cell_type": "code",
   "execution_count": 37,
   "id": "7796ece8",
   "metadata": {},
   "outputs": [],
   "source": [
    "# problem taking ln(A)"
   ]
  },
  {
   "cell_type": "code",
   "execution_count": 38,
   "id": "f50fb327",
   "metadata": {},
   "outputs": [
    {
     "data": {
      "text/plain": [
       "array([-1.27144748e+01, -8.92819606e+01, -2.81926438e+01,  2.55334557e+02,\n",
       "       -1.03959487e+01,  1.21684715e-02, -1.26428478e+00, -1.15433458e+00,\n",
       "       -3.36985166e+00,  1.29753150e+01,  4.42247998e+00,  1.38514918e+00,\n",
       "        8.76553425e-01,  6.53862829e-01,  5.26139627e-01,  4.42530780e-01,\n",
       "        3.83231626e-01,  3.38820508e-01,  3.04214346e-01,  2.76420421e-01,\n",
       "        2.53558962e-01,  2.34388546e-01,  2.18055710e-01,  2.03954000e-01,\n",
       "        1.91640367e-01,  1.80783407e-01,  1.71130112e-01,  1.62483858e-01,\n",
       "        1.54689420e-01,  1.47622539e-01,  1.41182499e-01,  1.35286750e-01,\n",
       "        1.29866940e-01,  1.24865961e-01,  1.20235692e-01,  1.15935278e-01,\n",
       "        1.11929791e-01,  1.08189174e-01,  1.04687410e-01,  1.01401856e-01,\n",
       "        9.83127027e-02,  9.54025382e-02,  9.26559916e-02,  9.00594369e-02,\n",
       "        8.76007483e-02,  8.52690965e-02,  8.30547770e-02,  8.09490654e-02,\n",
       "        7.89440952e-02,  7.79876067e-02])"
      ]
     },
     "execution_count": 38,
     "metadata": {},
     "output_type": "execute_result"
    }
   ],
   "source": [
    "# partial derivative with respect to ln of modified amplitude defined from SNR\n",
    "np.gradient(h_plus, new_amp)"
   ]
  },
  {
   "cell_type": "code",
   "execution_count": 39,
   "id": "cb81b181",
   "metadata": {},
   "outputs": [
    {
     "name": "stdout",
     "output_type": "stream",
     "text": [
      "[-inf  inf  inf -inf  inf  inf -inf -inf -inf -inf -inf -inf -inf -inf\n",
      " -inf -inf -inf -inf -inf -inf -inf -inf -inf -inf -inf -inf -inf -inf\n",
      " -inf -inf -inf -inf -inf -inf -inf -inf -inf -inf -inf -inf -inf -inf\n",
      " -inf -inf -inf -inf -inf -inf -inf -inf]\n",
      "[-1.68115386e-09  1.65049930e-10  7.94131192e-10 -1.61657418e-10\n",
      "  6.63167830e-11  1.11672836e-11 -1.01127389e-11 -7.83606334e-12\n",
      " -4.92676054e-12 -3.11569516e-12 -2.04892361e-12 -1.40434234e-12\n",
      " -9.98838083e-13 -7.33287700e-13 -5.52978601e-13 -4.26613010e-13\n",
      " -3.35591198e-13 -2.68451597e-13 -2.17893835e-13 -1.79127858e-13\n",
      " -1.48926311e-13 -1.25062710e-13 -1.05968261e-13 -9.05164561e-14\n",
      " -7.78844929e-14 -6.74620819e-14 -5.87902053e-14 -5.15192125e-14\n",
      " -4.53796566e-14 -4.01616773e-14 -3.57002169e-14 -3.18642779e-14\n",
      " -2.85490209e-14 -2.56698875e-14 -2.31581813e-14 -2.09577150e-14\n",
      " -1.90222405e-14 -1.73134651e-14 -1.57995056e-14 -1.44536762e-14\n",
      " -1.32535300e-14 -1.21800979e-14 -1.12172781e-14 -1.03513454e-14\n",
      " -9.57055375e-15 -8.86481293e-15 -8.22542352e-15 -7.64485956e-15\n",
      " -7.11658887e-15 -6.86476734e-15]\n",
      "[-8.40576929e-10  8.25249652e-11  3.97065596e-10 -8.08287092e-11\n",
      "  3.31583915e-11  5.58364179e-12 -5.05636943e-12 -3.91803167e-12\n",
      " -2.46338027e-12 -1.55784758e-12 -1.02446181e-12 -7.02171169e-13\n",
      " -4.99419042e-13 -3.66643850e-13 -2.76489301e-13 -2.13306505e-13\n",
      " -1.67795599e-13 -1.34225798e-13 -1.08946918e-13 -8.95639290e-14\n",
      " -7.44631556e-14 -6.25313552e-14 -5.29841304e-14 -4.52582280e-14\n",
      " -3.89422464e-14 -3.37310410e-14 -2.93951026e-14 -2.57596063e-14\n",
      " -2.26898283e-14 -2.00808386e-14 -1.78501085e-14 -1.59321389e-14\n",
      " -1.42745105e-14 -1.28349437e-14 -1.15790907e-14 -1.04788575e-14\n",
      " -9.51112024e-15 -8.65673254e-15 -7.89975281e-15 -7.22683808e-15\n",
      " -6.62676502e-15 -6.09004897e-15 -5.60863905e-15 -5.17567268e-15\n",
      " -4.78527688e-15 -4.43240646e-15 -4.11271176e-15 -3.82242978e-15\n",
      " -3.55829443e-15 -3.43238367e-15]\n",
      "[-5.60384619e-10  5.50166435e-11  2.64710397e-10 -5.38858062e-11\n",
      "  2.21055943e-11  3.72242786e-12 -3.37091296e-12 -2.61202111e-12\n",
      " -1.64225351e-12 -1.03856505e-12 -6.82974538e-13 -4.68114113e-13\n",
      " -3.32946028e-13 -2.44429233e-13 -1.84326200e-13 -1.42204337e-13\n",
      " -1.11863733e-13 -8.94838656e-14 -7.26312784e-14 -5.97092860e-14\n",
      " -4.96421037e-14 -4.16875701e-14 -3.53227536e-14 -3.01721520e-14\n",
      " -2.59614976e-14 -2.24873606e-14 -1.95967351e-14 -1.71730708e-14\n",
      " -1.51265522e-14 -1.33872258e-14 -1.19000723e-14 -1.06214260e-14\n",
      " -9.51634031e-15 -8.55662916e-15 -7.71939378e-15 -6.98590499e-15\n",
      " -6.34074683e-15 -5.77115503e-15 -5.26650187e-15 -4.81789205e-15\n",
      " -4.41784335e-15 -4.06003265e-15 -3.73909270e-15 -3.45044845e-15\n",
      " -3.19018458e-15 -2.95493764e-15 -2.74180784e-15 -2.54828652e-15\n",
      " -2.37219629e-15 -2.28825578e-15]\n",
      "[-4.20288465e-10  4.12624826e-11  1.98532798e-10 -4.04143546e-11\n",
      "  1.65791957e-11  2.79182089e-12 -2.52818472e-12 -1.95901584e-12\n",
      " -1.23169014e-12 -7.78923790e-13 -5.12230903e-13 -3.51085584e-13\n",
      " -2.49709521e-13 -1.83321925e-13 -1.38244650e-13 -1.06653252e-13\n",
      " -8.38977995e-14 -6.71128992e-14 -5.44734588e-14 -4.47819645e-14\n",
      " -3.72315778e-14 -3.12656776e-14 -2.64920652e-14 -2.26291140e-14\n",
      " -1.94711232e-14 -1.68655205e-14 -1.46975513e-14 -1.28798031e-14\n",
      " -1.13449141e-14 -1.00404193e-14 -8.92505423e-15 -7.96606947e-15\n",
      " -7.13725523e-15 -6.41747187e-15 -5.78954533e-15 -5.23942874e-15\n",
      " -4.75556012e-15 -4.32836627e-15 -3.94987640e-15 -3.61341904e-15\n",
      " -3.31338251e-15 -3.04502449e-15 -2.80431952e-15 -2.58783634e-15\n",
      " -2.39263844e-15 -2.21620323e-15 -2.05635588e-15 -1.91121489e-15\n",
      " -1.77914722e-15 -1.71619184e-15]\n",
      "[-3.36230772e-10  3.30099861e-11  1.58826238e-10 -3.23314837e-11\n",
      "  1.32633566e-11  2.23345672e-12 -2.02254777e-12 -1.56721267e-12\n",
      " -9.85352108e-13 -6.23139032e-13 -4.09784723e-13 -2.80868468e-13\n",
      " -1.99767617e-13 -1.46657540e-13 -1.10595720e-13 -8.53226019e-14\n",
      " -6.71182396e-14 -5.36903194e-14 -4.35787670e-14 -3.58255716e-14\n",
      " -2.97852622e-14 -2.50125421e-14 -2.11936522e-14 -1.81032912e-14\n",
      " -1.55768986e-14 -1.34924164e-14 -1.17580411e-14 -1.03038425e-14\n",
      " -9.07593132e-15 -8.03233545e-15 -7.14004338e-15 -6.37285558e-15\n",
      " -5.70980418e-15 -5.13397749e-15 -4.63163627e-15 -4.19154299e-15\n",
      " -3.80444810e-15 -3.46269302e-15 -3.15990112e-15 -2.89073523e-15\n",
      " -2.65070601e-15 -2.43601959e-15 -2.24345562e-15 -2.07026907e-15\n",
      " -1.91411075e-15 -1.77296259e-15 -1.64508470e-15 -1.52897191e-15\n",
      " -1.42331777e-15 -1.37295347e-15]\n",
      "[-2.80192310e-10  2.75083217e-11  1.32355199e-10 -2.69429031e-11\n",
      "  1.10527972e-11  1.86121393e-12 -1.68545648e-12 -1.30601056e-12\n",
      " -8.21126757e-13 -5.19282526e-13 -3.41487269e-13 -2.34057056e-13\n",
      " -1.66473014e-13 -1.22214617e-13 -9.21631002e-14 -7.11021683e-14\n",
      " -5.59318663e-14 -4.47419328e-14 -3.63156392e-14 -2.98546430e-14\n",
      " -2.48210519e-14 -2.08437851e-14 -1.76613768e-14 -1.50860760e-14\n",
      " -1.29807488e-14 -1.12436803e-14 -9.79836755e-15 -8.58653542e-15\n",
      " -7.56327610e-15 -6.69361288e-15 -5.95003615e-15 -5.31071298e-15\n",
      " -4.75817015e-15 -4.27831458e-15 -3.85969689e-15 -3.49295250e-15\n",
      " -3.17037341e-15 -2.88557751e-15 -2.63325094e-15 -2.40894603e-15\n",
      " -2.20892167e-15 -2.03001632e-15 -1.86954635e-15 -1.72522423e-15\n",
      " -1.59509229e-15 -1.47746882e-15 -1.37090392e-15 -1.27414326e-15\n",
      " -1.18609814e-15 -1.14412789e-15]\n",
      "[-2.40164837e-10  2.35785615e-11  1.13447313e-10 -2.30939169e-11\n",
      "  9.47382614e-12  1.59532623e-12 -1.44467698e-12 -1.11943762e-12\n",
      " -7.03822935e-13 -4.45099308e-13 -2.92703373e-13 -2.00620334e-13\n",
      " -1.42691155e-13 -1.04755386e-13 -7.89969430e-14 -6.09447156e-14\n",
      " -4.79415997e-14 -3.83502281e-14 -3.11276907e-14 -2.55896940e-14\n",
      " -2.12751873e-14 -1.78661015e-14 -1.51383230e-14 -1.29309223e-14\n",
      " -1.11263561e-14 -9.63744028e-15 -8.39860075e-15 -7.35988750e-15\n",
      " -6.48280808e-15 -5.73738247e-15 -5.10003099e-15 -4.55203970e-15\n",
      " -4.07843156e-15 -3.66712678e-15 -3.30831162e-15 -2.99395928e-15\n",
      " -2.71746293e-15 -2.47335215e-15 -2.25707223e-15 -2.06481088e-15\n",
      " -1.89336143e-15 -1.74001399e-15 -1.60246830e-15 -1.47876362e-15\n",
      " -1.36722196e-15 -1.26640185e-15 -1.17506050e-15 -1.09212279e-15\n",
      " -1.01665555e-15 -9.80681049e-16]\n",
      "[-2.10144232e-10  2.06312413e-11  9.92663990e-11 -2.02071773e-11\n",
      "  8.28959787e-12  1.39591045e-12 -1.26409236e-12 -9.79507918e-13\n",
      " -6.15845068e-13 -3.89461895e-13 -2.56115452e-13 -1.75542792e-13\n",
      " -1.24854760e-13 -9.16609625e-14 -6.91223251e-14 -5.33266262e-14\n",
      " -4.19488997e-14 -3.35564496e-14 -2.72367294e-14 -2.23909823e-14\n",
      " -1.86157889e-14 -1.56328388e-14 -1.32460326e-14 -1.13145570e-14\n",
      " -9.73556161e-15 -8.43276024e-15 -7.34877566e-15 -6.43990157e-15\n",
      " -5.67245707e-15 -5.02020966e-15 -4.46252711e-15 -3.98303473e-15\n",
      " -3.56862761e-15 -3.20873593e-15 -2.89477267e-15 -2.61971437e-15\n",
      " -2.37778006e-15 -2.16418313e-15 -1.97493820e-15 -1.80670952e-15\n",
      " -1.65669126e-15 -1.52251224e-15 -1.40215976e-15 -1.29391817e-15\n",
      " -1.19631922e-15 -1.10810162e-15 -1.02817794e-15 -9.55607445e-16\n",
      " -8.89573608e-16 -8.58095918e-16]\n"
     ]
    },
    {
     "name": "stderr",
     "output_type": "stream",
     "text": [
      "/Library/Frameworks/Python.framework/Versions/3.10/lib/python3.10/site-packages/numpy/lib/function_base.py:1211: RuntimeWarning: divide by zero encountered in true_divide\n",
      "  out[tuple(slice1)] = (f[tuple(slice4)] - f[tuple(slice2)]) / (2. * ax_dx)\n",
      "/Library/Frameworks/Python.framework/Versions/3.10/lib/python3.10/site-packages/numpy/lib/function_base.py:1232: RuntimeWarning: divide by zero encountered in double_scalars\n",
      "  out[tuple(slice1)] = (f[tuple(slice2)] - f[tuple(slice3)]) / dx_0\n",
      "/Library/Frameworks/Python.framework/Versions/3.10/lib/python3.10/site-packages/numpy/lib/function_base.py:1239: RuntimeWarning: divide by zero encountered in double_scalars\n",
      "  out[tuple(slice1)] = (f[tuple(slice2)] - f[tuple(slice3)]) / dx_n\n"
     ]
    }
   ],
   "source": [
    "alphas = np.arange(0,4.5,.5)\n",
    "for alpha in alphas:\n",
    "    print(np.gradient(h_plus, alpha))"
   ]
  },
  {
   "cell_type": "markdown",
   "id": "9de22a03",
   "metadata": {},
   "source": [
    "### For waveform parameters"
   ]
  },
  {
   "cell_type": "code",
   "execution_count": 40,
   "id": "57f782dc",
   "metadata": {},
   "outputs": [
    {
     "data": {
      "text/plain": [
       "array([ 1.11246356e-10, -1.09217864e-11, -5.25497419e-11,  1.06972950e-11,\n",
       "       -4.38835530e-12, -7.38968416e-13,  6.69186429e-13,  5.18532844e-13,\n",
       "        3.26016655e-13,  2.06173713e-13,  1.35582644e-13,  9.29290123e-14,\n",
       "        6.60957332e-14,  4.85235686e-14,  3.65920430e-14,  2.82301007e-14,\n",
       "        2.22069489e-14,  1.77641456e-14,  1.44186060e-14,  1.18533597e-14,\n",
       "        9.85484424e-15,  8.27572725e-15,  7.01219749e-15,  5.98971108e-15,\n",
       "        5.15382098e-15,  4.46414273e-15,  3.89030193e-15,  3.40916129e-15,\n",
       "        3.00289078e-15,  2.65760342e-15,  2.36237690e-15,  2.10854276e-15,\n",
       "        1.88916352e-15,  1.69864372e-15,  1.53243754e-15,  1.38682692e-15,\n",
       "        1.25875150e-15,  1.14567735e-15,  1.04549469e-15,  9.56437624e-16,\n",
       "        8.77020811e-16,  8.05988996e-16,  7.42276684e-16,  6.84975646e-16,\n",
       "        6.33308619e-16,  5.86607900e-16,  5.44297827e-16,  5.05880389e-16,\n",
       "        4.70923333e-16,  4.54259643e-16])"
      ]
     },
     "execution_count": 40,
     "metadata": {},
     "output_type": "execute_result"
    }
   ],
   "source": [
    "# partial derivative with respect to ln of chirp mass\n",
    "np.gradient(h_plus, np.log(wf.chirp_mass))"
   ]
  },
  {
   "cell_type": "code",
   "execution_count": 41,
   "id": "32da84b3",
   "metadata": {},
   "outputs": [
    {
     "data": {
      "text/plain": [
       "array([ 5.89003781e-10, -5.78263748e-11, -2.78229308e-10,  5.66377849e-11,\n",
       "       -2.32345396e-11, -3.91253437e-12,  3.54306740e-12,  2.74541852e-12,\n",
       "        1.72612434e-12,  1.09160516e-12,  7.17854436e-13,  4.92020967e-13,\n",
       "        3.49949771e-13,  2.56912373e-13,  1.93739844e-13,  1.49466793e-13,\n",
       "        1.17576677e-13,  9.40538575e-14,  7.63405991e-14,  6.27586732e-14,\n",
       "        5.21773542e-14,  4.38165780e-14,  3.71267067e-14,  3.17130610e-14,\n",
       "        2.72873661e-14,  2.36358029e-14,  2.05975515e-14,  1.80501093e-14,\n",
       "        1.58990738e-14,  1.40709190e-14,  1.25078158e-14,  1.11638682e-14,\n",
       "        1.00023452e-14,  8.99362108e-15,  8.11362761e-15,  7.34267913e-15,\n",
       "        6.66457238e-15,  6.06589120e-15,  5.53546512e-15,  5.06394454e-15,\n",
       "        4.64346512e-15,  4.26738082e-15,  3.93005029e-15,  3.62666482e-15,\n",
       "        3.35310913e-15,  3.10584799e-15,  2.88183353e-15,  2.67842896e-15,\n",
       "        2.49334570e-15,  2.40511831e-15])"
      ]
     },
     "execution_count": 41,
     "metadata": {},
     "output_type": "execute_result"
    }
   ],
   "source": [
    "# partial derivative with respect to eta, the mass ratio\n",
    "np.gradient(h_plus, np.log(wf.eta))"
   ]
  },
  {
   "cell_type": "code",
   "execution_count": 42,
   "id": "0d5e3c17",
   "metadata": {},
   "outputs": [
    {
     "data": {
      "text/plain": [
       "array([-6.24634639e+23,  8.81367329e+22,  2.94542946e+23, -6.20388780e+22,\n",
       "        2.74592844e+22,  4.55560117e+21, -4.53713138e+21, -3.60359929e+21,\n",
       "       -2.33014817e+21, -1.51360882e+21, -1.02051010e+21, -7.15762216e+20,\n",
       "       -5.19994039e+20, -3.89257769e+20, -2.98838563e+20, -2.34362208e+20,\n",
       "       -1.87154896e+20, -1.51794243e+20, -1.24778831e+20, -1.03780770e+20,\n",
       "       -8.72115266e+19, -7.39616230e+19, -6.32399272e+19, -5.44717445e+19,\n",
       "       -4.72325941e+19, -4.12042062e+19, -3.61446873e+19, -3.18679142e+19,\n",
       "       -2.82290598e+19, -2.51142684e+19, -2.24331857e+19, -2.01134833e+19,\n",
       "       -1.80967971e+19, -1.63356803e+19, -1.47912944e+19, -1.34316424e+19,\n",
       "       -1.22302048e+19, -1.11648782e+19, -1.02171422e+19, -9.37140168e+18,\n",
       "       -8.61446287e+18, -7.93511431e+18, -7.32378908e+18, -6.77229118e+18,\n",
       "       -6.27357266e+18, -5.82155105e+18, -5.41095928e+18, -5.03722153e+18,\n",
       "       -4.69635019e+18, -4.53377888e+18])"
      ]
     },
     "execution_count": 42,
     "metadata": {},
     "output_type": "execute_result"
    }
   ],
   "source": [
    "# partial derivative with respect to beta parameter, which describes massive graviton\n",
    "np.gradient(h_plus, wf.beta())"
   ]
  },
  {
   "cell_type": "code",
   "execution_count": 43,
   "id": "ea90f318",
   "metadata": {},
   "outputs": [
    {
     "name": "stderr",
     "output_type": "stream",
     "text": [
      "/Users/michellegurevich/Desktop/gravitationalwaves/modgravity/waveforms.py:71: RuntimeWarning: divide by zero encountered in power\n",
      "  term_ii = D_alpha / np.power(self.lambda_A(), (2 - self.alpha))\n"
     ]
    },
    {
     "data": {
      "text/plain": [
       "array([0., 0., 0., 0., 0., 0., 0., 0., 0., 0., 0., 0., 0., 0., 0., 0., 0.,\n",
       "       0., 0., 0., 0., 0., 0., 0., 0., 0., 0., 0., 0., 0., 0., 0., 0., 0.,\n",
       "       0., 0., 0., 0., 0., 0., 0., 0., 0., 0., 0., 0., 0., 0., 0., 0.])"
      ]
     },
     "execution_count": 43,
     "metadata": {},
     "output_type": "execute_result"
    }
   ],
   "source": [
    "# partial derivative with respect to beta parameter, which describes Lorentz-violating terms\n",
    "wf.zeta()"
   ]
  },
  {
   "cell_type": "code",
   "execution_count": null,
   "id": "dcff6500",
   "metadata": {},
   "outputs": [],
   "source": []
  }
 ],
 "metadata": {
  "kernelspec": {
   "display_name": "Python 3 (ipykernel)",
   "language": "python",
   "name": "python3"
  },
  "language_info": {
   "codemirror_mode": {
    "name": "ipython",
    "version": 3
   },
   "file_extension": ".py",
   "mimetype": "text/x-python",
   "name": "python",
   "nbconvert_exporter": "python",
   "pygments_lexer": "ipython3",
   "version": "3.10.2"
  }
 },
 "nbformat": 4,
 "nbformat_minor": 5
}
