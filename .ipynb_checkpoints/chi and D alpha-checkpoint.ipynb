{
 "cells": [
  {
   "cell_type": "code",
   "execution_count": 1,
   "id": "8c7a0d71",
   "metadata": {},
   "outputs": [],
   "source": [
    "import sys, platform, os\n",
    "import matplotlib\n",
    "from matplotlib import pyplot as plt\n",
    "from mpl_toolkits.axes_grid1 import make_axes_locatable\n",
    "import numpy as np\n",
    "import camb\n",
    "from camb import model, initialpower\n",
    "import math\n",
    "from scipy.integrate import simps as simps"
   ]
  },
  {
   "cell_type": "code",
   "execution_count": null,
   "id": "0ff77552",
   "metadata": {},
   "outputs": [],
   "source": [
    "pars = camb.CAMBparams()\n",
    "pars.set_cosmology(H0 = 72)\n",
    "results = camb.get_background(pars)"
   ]
  },
  {
   "cell_type": "code",
   "execution_count": null,
   "id": "f47cd53a",
   "metadata": {},
   "outputs": [],
   "source": [
    "def alpha_distance(z):\n",
    "    some code here    \n",
    "    return D_alpha"
   ]
  },
  {
   "cell_type": "code",
   "execution_count": null,
   "id": "c65f5c73",
   "metadata": {},
   "outputs": [],
   "source": [
    "# check this matches results from standard CAMB lum distance function\n",
    "Hubble_param = 72\n",
    "omega_m = .3\n",
    "omega_lambda = .7\n",
    "\n",
    "z = np.linspace(0,4).reshape(-1,1)\n",
    "\n",
    "def integrand(z):\n",
    "    return 1 / math.sqrt( (omega_m * (1 + z_prime)**3 + omega_lambda) )\n",
    "scipy.integrate.simps(integrand(z), z, axis=0)"
   ]
  },
  {
   "cell_type": "code",
   "execution_count": 23,
   "id": "dd440836",
   "metadata": {},
   "outputs": [
    {
     "data": {
      "text/plain": [
       "array([ 49.6002448 , 248.80163197, 716.80514072])"
      ]
     },
     "execution_count": 23,
     "metadata": {},
     "output_type": "execute_result"
    }
   ],
   "source": [
    "Hubble_param = 72\n",
    "omega_m = .3\n",
    "omega_lambda = .7\n",
    "\n",
    "def func( x ):\n",
    "    return lambda x : 1 / math.sqrt( x ) # issue because sqrt converts array into scalar, use lambda to map values\n",
    "\n",
    "def func2( x ):\n",
    "    return (omega_m * (1 + a * x)**3 + omega_lambda)\n",
    "\n",
    "def integrand( x ):\n",
    "    return func2( x) #func(func2( x ))\n",
    "\n",
    "a = np.array([1,2,3])\n",
    "x = np.linspace(0,4).reshape(-1,1)\n",
    "simps(integrand(x), x, axis=0)"
   ]
  },
  {
   "cell_type": "code",
   "execution_count": null,
   "id": "7e001fc5",
   "metadata": {},
   "outputs": [],
   "source": [
    "def lum_distance(z):\n",
    "    factor = (1 + z) / Hubble_param\n",
    "    #integral = scipy.integrate.simps(y = integrand(np.linspace(0,4)), x = np.linspace(0,4))\n",
    "    #D_l = factor * res\n",
    "    return 0\n",
    "\n",
    "answer = lum_distance(z)\n",
    "answer"
   ]
  },
  {
   "cell_type": "code",
   "execution_count": null,
   "id": "0c853412",
   "metadata": {},
   "outputs": [],
   "source": [
    "# calculate distances for redshifts 0 to 4\n",
    "z = np.linspace(0,4)\n",
    "camb_Dl = results.luminosity_distance(z)\n",
    "camb_Dl"
   ]
  }
 ],
 "metadata": {
  "kernelspec": {
   "display_name": "Python 3 (ipykernel)",
   "language": "python",
   "name": "python3"
  },
  "language_info": {
   "codemirror_mode": {
    "name": "ipython",
    "version": 3
   },
   "file_extension": ".py",
   "mimetype": "text/x-python",
   "name": "python",
   "nbconvert_exporter": "python",
   "pygments_lexer": "ipython3",
   "version": "3.9.6"
  }
 },
 "nbformat": 4,
 "nbformat_minor": 5
}
