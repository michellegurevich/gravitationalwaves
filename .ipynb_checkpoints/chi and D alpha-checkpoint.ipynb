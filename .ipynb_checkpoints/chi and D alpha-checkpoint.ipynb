{
 "cells": [
  {
   "cell_type": "code",
   "execution_count": 1,
   "id": "a74e2973",
   "metadata": {},
   "outputs": [],
   "source": [
    "import sys, platform, os\n",
    "import matplotlib\n",
    "from matplotlib import pyplot as plt\n",
    "from mpl_toolkits.axes_grid1 import make_axes_locatable\n",
    "import numpy as np\n",
    "import camb\n",
    "from camb import model, initialpower\n",
    "import math\n",
    "from scipy.integrate import simps as simps"
   ]
  },
  {
   "cell_type": "code",
   "execution_count": 38,
   "id": "336c5489",
   "metadata": {},
   "outputs": [],
   "source": [
    "pars = camb.CAMBparams()\n",
    "pars.set_cosmology(H0 = 72)\n",
    "results = camb.get_background(pars)"
   ]
  },
  {
   "cell_type": "code",
   "execution_count": null,
   "id": "863f6670",
   "metadata": {},
   "outputs": [],
   "source": [
    "def alpha_distance(z):\n",
    "    some code here    \n",
    "    return D_alpha"
   ]
  },
  {
   "cell_type": "code",
   "execution_count": 53,
   "id": "be39f1fc",
   "metadata": {},
   "outputs": [
    {
     "data": {
      "text/plain": [
       "array([0.05555556, 0.02515154, 0.0168686 , 0.01321153, 0.0111433 ,\n",
       "       0.00981017, 0.0088783 , 0.00818996, 0.0076608 , 0.00724158,\n",
       "       0.0069016 , 0.00662073, 0.00638522, 0.00618533, 0.006014  ,\n",
       "       0.00586595, 0.00573717, 0.00562455, 0.00552564, 0.00543847,\n",
       "       0.00536146, 0.0052933 , 0.00523293, 0.00517942, 0.00513203,\n",
       "       0.0050901 , 0.00505308, 0.00502049, 0.00499191, 0.00496699,\n",
       "       0.0049454 , 0.00492686, 0.00491113, 0.00489798, 0.00488722,\n",
       "       0.00487866, 0.00487216, 0.00486756, 0.00486474, 0.00486358,\n",
       "       0.00486397, 0.00486582, 0.00486903, 0.00487353, 0.00487923,\n",
       "       0.00488607, 0.00489399, 0.00490292, 0.00491281, 0.00492362])"
      ]
     },
     "execution_count": 53,
     "metadata": {},
     "output_type": "execute_result"
    }
   ],
   "source": [
    "# check this implementation agrees with results from standard CAMB lum distance function\n",
    "Hubble_param = 72\n",
    "omega_m = .3\n",
    "omega_lambda = .7\n",
    "\n",
    "def func( x ):\n",
    "    return 1 / np.sqrt( x ) # issue because math sqrt fctn converts array into scalar, use np.sqrt\n",
    "\n",
    "def func2( x ):\n",
    "    return (omega_m * (1 + a * x)**3 + omega_lambda)\n",
    "\n",
    "def integrand( x ):\n",
    "    return func(func2( x ))\n",
    "\n",
    "a = np.array(range(0,50)) # controls number of points integrand is evaluated at\n",
    "x = np.linspace(0,4).reshape(-1,1)\n",
    "integral = simps(integrand(x), x, axis=0)\n",
    "\n",
    "\n",
    "def lum_dist( z ):\n",
    "    constant_term = (1 + z) / Hubble_param\n",
    "    return constant_term * integral\n",
    "\n",
    "lum_dist(np.linspace(0,4))"
   ]
  },
  {
   "cell_type": "code",
   "execution_count": 40,
   "id": "cc466d8b",
   "metadata": {},
   "outputs": [
    {
     "data": {
      "text/plain": [
       "array([    0.        ,   361.33350322,   763.20244116,  1202.18060569,\n",
       "        1674.98880621,  2178.54672677,  2710.00518535,  3266.76141467,\n",
       "        3846.4609177 ,  4446.98959139,  5066.45944702,  5703.19064644,\n",
       "        6355.69190817,  7022.64072766,  7702.86435405,  8395.32208093,\n",
       "        9099.08913283,  9813.34224122, 10537.34688413, 11270.44609213,\n",
       "       12012.05068687, 12761.63080278, 13518.70854242, 14282.85162268,\n",
       "       15053.66788097, 15830.80052419, 16613.92401673, 17402.74051739,\n",
       "       18196.9767872 , 18996.38150086, 19800.72290461, 20609.78677124,\n",
       "       21423.37461058, 22241.3020998 , 23063.39770311, 23889.50145516,\n",
       "       24719.46388591, 25553.14506827, 26390.41377245, 27231.14671309,\n",
       "       28075.22787757, 28922.54792517, 29773.00364844, 30626.49748925,\n",
       "       31482.93710297, 32342.23496512, 33204.30801567, 34069.0773367 ,\n",
       "       34936.46785961, 35806.40809881])"
      ]
     },
     "execution_count": 40,
     "metadata": {},
     "output_type": "execute_result"
    }
   ],
   "source": [
    "# calculate luminosity distances for redshifts 0 to 4\n",
    "z = np.linspace(0,4)\n",
    "camb_Dl = results.luminosity_distance(z)\n",
    "camb_Dl"
   ]
  }
 ],
 "metadata": {
  "kernelspec": {
   "display_name": "Python 3 (ipykernel)",
   "language": "python",
   "name": "python3"
  },
  "language_info": {
   "codemirror_mode": {
    "name": "ipython",
    "version": 3
   },
   "file_extension": ".py",
   "mimetype": "text/x-python",
   "name": "python",
   "nbconvert_exporter": "python",
   "pygments_lexer": "ipython3",
   "version": "3.9.6"
  }
 },
 "nbformat": 4,
 "nbformat_minor": 5
}
