{
 "cells": [
  {
   "cell_type": "code",
   "execution_count": 1,
   "id": "fd4a8a88",
   "metadata": {},
   "outputs": [],
   "source": [
    "import sys, platform, os\n",
    "import matplotlib\n",
    "from matplotlib import pyplot as plt\n",
    "from mpl_toolkits.axes_grid1 import make_axes_locatable\n",
    "import numpy as np\n",
    "import camb\n",
    "from camb import model, initialpower\n",
    "import math\n",
    "from scipy.integrate import simps as simps\n",
    "from scipy.integrate import quad as quad"
   ]
  },
  {
   "cell_type": "code",
   "execution_count": null,
   "id": "4fd46f58",
   "metadata": {},
   "outputs": [],
   "source": [
    "pars = camb.CAMBparams()\n",
    "pars.set_cosmology(H0 = 72, ombh2 = .0223828, omch2 = 0.1201075, omk = 0, tau = 0.06)\n",
    "results = camb.get_background(pars)"
   ]
  },
  {
   "cell_type": "code",
   "execution_count": 12,
   "id": "97580510",
   "metadata": {},
   "outputs": [
    {
     "ename": "NameError",
     "evalue": "name 'alpha' is not defined",
     "output_type": "error",
     "traceback": [
      "\u001b[0;31m---------------------------------------------------------------------------\u001b[0m",
      "\u001b[0;31mNameError\u001b[0m                                 Traceback (most recent call last)",
      "\u001b[0;32m/var/folders/w8/4wp4120x0jx_klvhhht7bxjc0000gn/T/ipykernel_32677/364904556.py\u001b[0m in \u001b[0;36m<module>\u001b[0;34m\u001b[0m\n\u001b[1;32m     21\u001b[0m     \u001b[0;32mreturn\u001b[0m \u001b[0mconstant_term\u001b[0m \u001b[0;34m*\u001b[0m \u001b[0mintegral\u001b[0m\u001b[0;34m\u001b[0m\u001b[0;34m\u001b[0m\u001b[0m\n\u001b[1;32m     22\u001b[0m \u001b[0;34m\u001b[0m\u001b[0m\n\u001b[0;32m---> 23\u001b[0;31m \u001b[0malpha_dist\u001b[0m\u001b[0;34m(\u001b[0m\u001b[0mz\u001b[0m\u001b[0;34m,\u001b[0m \u001b[0;36m0\u001b[0m\u001b[0;34m)\u001b[0m\u001b[0;34m\u001b[0m\u001b[0;34m\u001b[0m\u001b[0m\n\u001b[0m",
      "\u001b[0;32m/var/folders/w8/4wp4120x0jx_klvhhht7bxjc0000gn/T/ipykernel_32677/364904556.py\u001b[0m in \u001b[0;36malpha_dist\u001b[0;34m(z, alpha)\u001b[0m\n\u001b[1;32m     17\u001b[0m \u001b[0;32mdef\u001b[0m \u001b[0malpha_dist\u001b[0m\u001b[0;34m(\u001b[0m \u001b[0mz\u001b[0m\u001b[0;34m,\u001b[0m \u001b[0malpha\u001b[0m \u001b[0;34m)\u001b[0m\u001b[0;34m:\u001b[0m\u001b[0;34m\u001b[0m\u001b[0;34m\u001b[0m\u001b[0m\n\u001b[1;32m     18\u001b[0m     \u001b[0mz_prime\u001b[0m \u001b[0;34m=\u001b[0m \u001b[0mnp\u001b[0m\u001b[0;34m.\u001b[0m\u001b[0mlinspace\u001b[0m\u001b[0;34m(\u001b[0m\u001b[0;36m0\u001b[0m\u001b[0;34m,\u001b[0m\u001b[0mz\u001b[0m\u001b[0;34m)\u001b[0m\u001b[0;34m.\u001b[0m\u001b[0mreshape\u001b[0m\u001b[0;34m(\u001b[0m\u001b[0;34m-\u001b[0m\u001b[0;36m1\u001b[0m\u001b[0;34m,\u001b[0m\u001b[0;36m1\u001b[0m\u001b[0;34m)\u001b[0m\u001b[0;34m\u001b[0m\u001b[0;34m\u001b[0m\u001b[0m\n\u001b[0;32m---> 19\u001b[0;31m     \u001b[0mintegral\u001b[0m \u001b[0;34m=\u001b[0m \u001b[0msimps\u001b[0m\u001b[0;34m(\u001b[0m\u001b[0mintegrand\u001b[0m\u001b[0;34m(\u001b[0m\u001b[0mz_prime\u001b[0m\u001b[0;34m,\u001b[0m \u001b[0malpha\u001b[0m\u001b[0;34m)\u001b[0m\u001b[0;34m,\u001b[0m \u001b[0mz_prime\u001b[0m\u001b[0;34m,\u001b[0m \u001b[0maxis\u001b[0m\u001b[0;34m=\u001b[0m\u001b[0;36m0\u001b[0m\u001b[0;34m)\u001b[0m\u001b[0;34m\u001b[0m\u001b[0;34m\u001b[0m\u001b[0m\n\u001b[0m\u001b[1;32m     20\u001b[0m     \u001b[0mconstant_term\u001b[0m \u001b[0;34m=\u001b[0m \u001b[0;34m(\u001b[0m\u001b[0;36m1\u001b[0m \u001b[0;34m+\u001b[0m \u001b[0mz\u001b[0m\u001b[0;34m)\u001b[0m\u001b[0;34m**\u001b[0m\u001b[0;34m(\u001b[0m\u001b[0;36m1\u001b[0m\u001b[0;34m-\u001b[0m\u001b[0malpha\u001b[0m\u001b[0;34m)\u001b[0m \u001b[0;34m/\u001b[0m \u001b[0mHubble_param\u001b[0m\u001b[0;34m\u001b[0m\u001b[0;34m\u001b[0m\u001b[0m\n\u001b[1;32m     21\u001b[0m     \u001b[0;32mreturn\u001b[0m \u001b[0mconstant_term\u001b[0m \u001b[0;34m*\u001b[0m \u001b[0mintegral\u001b[0m\u001b[0;34m\u001b[0m\u001b[0;34m\u001b[0m\u001b[0m\n",
      "\u001b[0;32m/var/folders/w8/4wp4120x0jx_klvhhht7bxjc0000gn/T/ipykernel_32677/364904556.py\u001b[0m in \u001b[0;36mintegrand\u001b[0;34m(*args)\u001b[0m\n\u001b[1;32m     11\u001b[0m \u001b[0;34m\u001b[0m\u001b[0m\n\u001b[1;32m     12\u001b[0m \u001b[0;32mdef\u001b[0m \u001b[0mintegrand\u001b[0m\u001b[0;34m(\u001b[0m \u001b[0;34m*\u001b[0m\u001b[0margs\u001b[0m \u001b[0;34m)\u001b[0m\u001b[0;34m:\u001b[0m\u001b[0;34m\u001b[0m\u001b[0;34m\u001b[0m\u001b[0m\n\u001b[0;32m---> 13\u001b[0;31m     \u001b[0;32mreturn\u001b[0m \u001b[0mfunc\u001b[0m\u001b[0;34m(\u001b[0m\u001b[0mfunc2\u001b[0m\u001b[0;34m(\u001b[0m \u001b[0mz_prime\u001b[0m \u001b[0;34m)\u001b[0m\u001b[0;34m,\u001b[0m \u001b[0malpha\u001b[0m\u001b[0;34m)\u001b[0m\u001b[0;34m\u001b[0m\u001b[0;34m\u001b[0m\u001b[0m\n\u001b[0m\u001b[1;32m     14\u001b[0m \u001b[0;34m\u001b[0m\u001b[0m\n\u001b[1;32m     15\u001b[0m \u001b[0mn\u001b[0m \u001b[0;34m=\u001b[0m \u001b[0mnp\u001b[0m\u001b[0;34m.\u001b[0m\u001b[0marray\u001b[0m\u001b[0;34m(\u001b[0m\u001b[0mrange\u001b[0m\u001b[0;34m(\u001b[0m\u001b[0;36m0\u001b[0m\u001b[0;34m,\u001b[0m\u001b[0;36m50\u001b[0m\u001b[0;34m)\u001b[0m\u001b[0;34m)\u001b[0m \u001b[0;31m# controls number of points integrand is evaluated at\u001b[0m\u001b[0;34m\u001b[0m\u001b[0;34m\u001b[0m\u001b[0m\n",
      "\u001b[0;31mNameError\u001b[0m: name 'alpha' is not defined"
     ]
    }
   ],
   "source": [
    "# follows luminosity distance implementation below, but includes alpha factor contribution\n",
    "Hubble_param = 72\n",
    "omega_m = .3\n",
    "omega_lambda = .7\n",
    "\n",
    "def func( z_prime, alpha ):\n",
    "    return ((1 + z_prime)**(alpha-2)) / np.sqrt( z_prime ) # issue because math sqrt fctn converts array into scalar, use np.sqrt\n",
    "\n",
    "def func2( z_prime ):\n",
    "    return (omega_m * (1 + n * z_prime)**3 + omega_lambda)\n",
    "\n",
    "def integrand( z_prime, alpha ):\n",
    "    return func(func2( z_prime ), alpha)\n",
    "\n",
    "n = np.array(range(0,50)) # controls number of points integrand is evaluated at\n",
    "\n",
    "def alpha_dist( z, alpha ):\n",
    "    z_prime = np.linspace(0,z).reshape(-1,1)\n",
    "    integral = simps(integrand(z_prime, alpha), z_prime, axis=0)\n",
    "    constant_term = (1 + z)**(1-alpha) / Hubble_param\n",
    "    return constant_term * integral\n",
    "\n",
    "alpha_dist(z, 0)"
   ]
  },
  {
   "cell_type": "code",
   "execution_count": 3,
   "id": "cdd18e56",
   "metadata": {},
   "outputs": [
    {
     "data": {
      "text/plain": [
       "array([0.27777778, 0.11626657, 0.07250538, 0.0530627 , 0.04200167,\n",
       "       0.0348332 , 0.02979704, 0.02605898, 0.02317157, 0.02087279,\n",
       "       0.01899879, 0.01744171, 0.01612762, 0.01500403, 0.01403267,\n",
       "       0.01318494, 0.01243901, 0.01177791, 0.01118828, 0.0106594 ,\n",
       "       0.01018262, 0.00975082, 0.00935815, 0.0089997 , 0.00867135,\n",
       "       0.00836962, 0.00809153, 0.00783452, 0.00759639, 0.00737522,\n",
       "       0.00716936, 0.00697735, 0.00679789, 0.00662986, 0.00647226,\n",
       "       0.00632419, 0.00618487, 0.00605357, 0.00592966, 0.00581257,\n",
       "       0.00570179, 0.00559684, 0.00549729, 0.00540278, 0.00531294,\n",
       "       0.00522745, 0.00514604, 0.00506842, 0.00499435, 0.00492362])"
      ]
     },
     "execution_count": 3,
     "metadata": {},
     "output_type": "execute_result"
    }
   ],
   "source": [
    "# check this implementation agrees with results from standard CAMB lum distance function\n",
    "Hubble_param = 72\n",
    "omega_m = .3\n",
    "omega_lambda = .7\n",
    "\n",
    "def func( z_prime ):\n",
    "    return 1 / np.sqrt( z_prime ) # issue because math sqrt fctn converts array into scalar, use np.sqrt\n",
    "\n",
    "def func2( z_prime ):\n",
    "    return (omega_m * (1 + a * z_prime)**3 + omega_lambda)\n",
    "\n",
    "def integrand( z_prime ):\n",
    "    return func(func2( z_prime ))\n",
    "\n",
    "a = np.array(range(0,50)) # controls number of points integrand is evaluated at\n",
    "z_prime = np.linspace(0,4).reshape(-1,1)\n",
    "integral = simps(integrand(z_prime), z_prime, axis=0)\n",
    "\n",
    "\n",
    "def lum_dist( z ):\n",
    "    constant_term = (1 + z) / Hubble_param\n",
    "    return constant_term * integral\n",
    "\n",
    "lum_dist(4)"
   ]
  },
  {
   "cell_type": "code",
   "execution_count": null,
   "id": "7d225829",
   "metadata": {},
   "outputs": [],
   "source": [
    "z_prime"
   ]
  },
  {
   "cell_type": "code",
   "execution_count": 4,
   "id": "aba74950",
   "metadata": {},
   "outputs": [
    {
     "ename": "NameError",
     "evalue": "name 'results' is not defined",
     "output_type": "error",
     "traceback": [
      "\u001b[0;31m---------------------------------------------------------------------------\u001b[0m",
      "\u001b[0;31mNameError\u001b[0m                                 Traceback (most recent call last)",
      "\u001b[0;32m/var/folders/w8/4wp4120x0jx_klvhhht7bxjc0000gn/T/ipykernel_32677/1752042256.py\u001b[0m in \u001b[0;36m<module>\u001b[0;34m\u001b[0m\n\u001b[1;32m      1\u001b[0m \u001b[0;31m# calculate luminosity distances for redshifts 0 to 4\u001b[0m\u001b[0;34m\u001b[0m\u001b[0;34m\u001b[0m\u001b[0;34m\u001b[0m\u001b[0m\n\u001b[1;32m      2\u001b[0m \u001b[0mz\u001b[0m \u001b[0;34m=\u001b[0m \u001b[0mnp\u001b[0m\u001b[0;34m.\u001b[0m\u001b[0mlinspace\u001b[0m\u001b[0;34m(\u001b[0m\u001b[0;36m0\u001b[0m\u001b[0;34m,\u001b[0m\u001b[0;36m4\u001b[0m\u001b[0;34m)\u001b[0m\u001b[0;34m\u001b[0m\u001b[0;34m\u001b[0m\u001b[0m\n\u001b[0;32m----> 3\u001b[0;31m \u001b[0mcamb_Dl\u001b[0m \u001b[0;34m=\u001b[0m \u001b[0mresults\u001b[0m\u001b[0;34m.\u001b[0m\u001b[0mluminosity_distance\u001b[0m\u001b[0;34m(\u001b[0m\u001b[0mz\u001b[0m\u001b[0;34m)\u001b[0m\u001b[0;34m\u001b[0m\u001b[0;34m\u001b[0m\u001b[0m\n\u001b[0m\u001b[1;32m      4\u001b[0m \u001b[0mcamb_Dl\u001b[0m\u001b[0;34m\u001b[0m\u001b[0;34m\u001b[0m\u001b[0m\n",
      "\u001b[0;31mNameError\u001b[0m: name 'results' is not defined"
     ]
    }
   ],
   "source": [
    "# calculate luminosity distances for redshifts 0 to 4\n",
    "z = np.linspace(0,4)\n",
    "camb_Dl = results.luminosity_distance(z)\n",
    "camb_Dl"
   ]
  },
  {
   "cell_type": "code",
   "execution_count": null,
   "id": "7c7ec800",
   "metadata": {},
   "outputs": [],
   "source": [
    "z"
   ]
  },
  {
   "cell_type": "code",
   "execution_count": null,
   "id": "9386da0a",
   "metadata": {},
   "outputs": [],
   "source": [
    "plt.plot(z, camb_Dl)\n",
    "plt.xlabel('$z$')\n",
    "plt.ylabel(r'$D_L /\\rm{Mpc}$')\n",
    "plt.title('Luminosity distance')\n",
    "plt.ylim([0,40000])\n",
    "plt.xlim([0,4]);"
   ]
  },
  {
   "cell_type": "code",
   "execution_count": null,
   "id": "d908d47e",
   "metadata": {},
   "outputs": [],
   "source": [
    "len(lum_dist(4))"
   ]
  },
  {
   "cell_type": "code",
   "execution_count": null,
   "id": "4256bf62",
   "metadata": {},
   "outputs": [],
   "source": [
    "len(camb_Dl)"
   ]
  },
  {
   "cell_type": "code",
   "execution_count": 6,
   "id": "e383af29",
   "metadata": {
    "scrolled": true
   },
   "outputs": [
    {
     "ename": "NameError",
     "evalue": "name 'self' is not defined",
     "output_type": "error",
     "traceback": [
      "\u001b[0;31m---------------------------------------------------------------------------\u001b[0m",
      "\u001b[0;31mNameError\u001b[0m                                 Traceback (most recent call last)",
      "\u001b[0;32m/var/folders/w8/4wp4120x0jx_klvhhht7bxjc0000gn/T/ipykernel_32677/331637677.py\u001b[0m in \u001b[0;36m<module>\u001b[0;34m\u001b[0m\n\u001b[1;32m      5\u001b[0m \u001b[0malpha_values\u001b[0m \u001b[0;34m=\u001b[0m \u001b[0mnp\u001b[0m\u001b[0;34m.\u001b[0m\u001b[0marange\u001b[0m\u001b[0;34m(\u001b[0m\u001b[0;36m0\u001b[0m\u001b[0;34m,\u001b[0m \u001b[0;36m4.5\u001b[0m\u001b[0;34m,\u001b[0m \u001b[0;36m.5\u001b[0m\u001b[0;34m)\u001b[0m\u001b[0;34m\u001b[0m\u001b[0;34m\u001b[0m\u001b[0m\n\u001b[1;32m      6\u001b[0m \u001b[0;32mfor\u001b[0m \u001b[0ma\u001b[0m \u001b[0;32min\u001b[0m \u001b[0malpha_values\u001b[0m\u001b[0;34m:\u001b[0m\u001b[0;34m\u001b[0m\u001b[0;34m\u001b[0m\u001b[0m\n\u001b[0;32m----> 7\u001b[0;31m     \u001b[0malpha_lum_ratio\u001b[0m \u001b[0;34m=\u001b[0m \u001b[0;34m(\u001b[0m\u001b[0malpha_dist\u001b[0m\u001b[0;34m(\u001b[0m\u001b[0mself\u001b[0m\u001b[0;34m,\u001b[0m \u001b[0mz\u001b[0m\u001b[0;34m,\u001b[0m \u001b[0ma\u001b[0m\u001b[0;34m)\u001b[0m \u001b[0;34m/\u001b[0m \u001b[0mlum_dist\u001b[0m\u001b[0;34m(\u001b[0m\u001b[0mz\u001b[0m\u001b[0;34m)\u001b[0m\u001b[0;34m)\u001b[0m\u001b[0;34m[\u001b[0m\u001b[0;36m1\u001b[0m\u001b[0;34m]\u001b[0m\u001b[0;34m\u001b[0m\u001b[0;34m\u001b[0m\u001b[0m\n\u001b[0m\u001b[1;32m      8\u001b[0m     \u001b[0mresults\u001b[0m\u001b[0;34m.\u001b[0m\u001b[0mappend\u001b[0m\u001b[0;34m(\u001b[0m\u001b[0malpha_lum_ratio\u001b[0m\u001b[0;34m)\u001b[0m\u001b[0;34m\u001b[0m\u001b[0;34m\u001b[0m\u001b[0m\n\u001b[1;32m      9\u001b[0m \u001b[0;34m\u001b[0m\u001b[0m\n",
      "\u001b[0;31mNameError\u001b[0m: name 'self' is not defined"
     ]
    }
   ],
   "source": [
    "z = 4\n",
    "results = []\n",
    "\n",
    "\n",
    "alpha_values = np.arange(0, 4.5, .5)\n",
    "for a in alpha_values:\n",
    "    alpha_lum_ratio = (alpha_dist(self, z, a) / lum_dist(z))[1]\n",
    "    results.append(alpha_lum_ratio)\n",
    "\n",
    "plt.plot(np.hstack(alpha_values), np.hstack(results))\n",
    "plt.xlabel(r'$\\alpha$')\n",
    "plt.ylabel(r'$D_{\\alpha} / D_L {Mpc}$')\n",
    "plt.title('Ratio of alpha to standard luminosity distances')"
   ]
  },
  {
   "cell_type": "code",
   "execution_count": null,
   "id": "f8a825c5",
   "metadata": {},
   "outputs": [],
   "source": [
    "xhi_e = 1\n",
    "t_emiss = 2\n",
    "t_arriv = 15\n",
    "a_t0 = 1\n",
    "z = np.linspace(0,4)\n",
    "a_t = a_t0 / (1 + z)\n",
    "\n",
    "term_I = quad(a_t, t_emiss, t_arriv)"
   ]
  }
 ],
 "metadata": {
  "kernelspec": {
   "display_name": "Python 3 (ipykernel)",
   "language": "python",
   "name": "python3"
  },
  "language_info": {
   "codemirror_mode": {
    "name": "ipython",
    "version": 3
   },
   "file_extension": ".py",
   "mimetype": "text/x-python",
   "name": "python",
   "nbconvert_exporter": "python",
   "pygments_lexer": "ipython3",
   "version": "3.9.6"
  }
 },
 "nbformat": 4,
 "nbformat_minor": 5
}
