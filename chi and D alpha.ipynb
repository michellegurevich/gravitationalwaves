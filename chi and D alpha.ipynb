{
 "cells": [
  {
   "cell_type": "code",
   "execution_count": 1,
   "id": "fd4a8a88",
   "metadata": {},
   "outputs": [],
   "source": [
    "import sys, platform, os\n",
    "import matplotlib\n",
    "from matplotlib import pyplot as plt\n",
    "from mpl_toolkits.axes_grid1 import make_axes_locatable\n",
    "import numpy as np\n",
    "import camb\n",
    "from camb import model, initialpower\n",
    "import math\n",
    "from scipy.integrate import simps as simps\n",
    "from scipy.integrate import quad as quad"
   ]
  },
  {
   "cell_type": "code",
   "execution_count": 2,
   "id": "4fd46f58",
   "metadata": {},
   "outputs": [
    {
     "data": {
      "text/plain": [
       "class: <CAMBdata>\n",
       " Params: <CAMBparams>\n",
       "   WantCls = True\n",
       "   WantTransfer = False\n",
       "   WantScalars = True\n",
       "   WantTensors = False\n",
       "   WantVectors = False\n",
       "   WantDerivedParameters = True\n",
       "   Want_cl_2D_array = True\n",
       "   Want_CMB = True\n",
       "   Want_CMB_lensing = True\n",
       "   DoLensing = True\n",
       "   NonLinear = NonLinear_none\n",
       "   Transfer: <TransferParams>\n",
       "     high_precision = False\n",
       "     accurate_massive_neutrinos = False\n",
       "     kmax = 0.9\n",
       "     k_per_logint = 0\n",
       "     PK_num_redshifts = 1\n",
       "     PK_redshifts = [0.0]\n",
       "   want_zstar = False\n",
       "   want_zdrag = False\n",
       "   min_l = 2\n",
       "   max_l = 2500\n",
       "   max_l_tensor = 600\n",
       "   max_eta_k = 5000.0\n",
       "   max_eta_k_tensor = 1200.0\n",
       "   ombh2 = 0.0223828\n",
       "   omch2 = 0.1201075\n",
       "   omk = 0.0\n",
       "   omnuh2 = 0.0006451383989381787\n",
       "   H0 = 72.0\n",
       "   TCMB = 2.7255\n",
       "   YHe = 0.2454039131512414\n",
       "   num_nu_massless = 2.030666666666667\n",
       "   num_nu_massive = 1\n",
       "   nu_mass_eigenstates = 1\n",
       "   share_delta_neff = False\n",
       "   nu_mass_degeneracies = [1.0153333333333332]\n",
       "   nu_mass_fractions = [1.0]\n",
       "   nu_mass_numbers = [1]\n",
       "   InitPower: <InitialPowerLaw>\n",
       "     tensor_parameterization = tensor_param_rpivot\n",
       "     ns = 0.96\n",
       "     nrun = 0.0\n",
       "     nrunrun = 0.0\n",
       "     nt = -0.0\n",
       "     ntrun = -0.0\n",
       "     r = 0.0\n",
       "     pivot_scalar = 0.05\n",
       "     pivot_tensor = 0.05\n",
       "     As = 2e-09\n",
       "     At = 1.0\n",
       "   Recomb: <Recfast>\n",
       "     min_a_evolve_Tm = 0.0011098779505118728\n",
       "     RECFAST_fudge = 1.125\n",
       "     RECFAST_fudge_He = 0.86\n",
       "     RECFAST_Heswitch = 6\n",
       "     RECFAST_Hswitch = True\n",
       "     AGauss1 = -0.14\n",
       "     AGauss2 = 0.079\n",
       "     zGauss1 = 7.28\n",
       "     zGauss2 = 6.73\n",
       "     wGauss1 = 0.18\n",
       "     wGauss2 = 0.33\n",
       "   Reion: <TanhReionization>\n",
       "     Reionization = True\n",
       "     use_optical_depth = True\n",
       "     redshift = 8.27829127696287\n",
       "     optical_depth = 0.06\n",
       "     delta_redshift = 0.5\n",
       "     fraction = 1.081886511149452\n",
       "     include_helium_fullreion = True\n",
       "     helium_redshift = 3.5\n",
       "     helium_delta_redshift = 0.4\n",
       "     helium_redshiftstart = 5.5\n",
       "     tau_solve_accuracy_boost = 1.0\n",
       "     timestep_boost = 1.0\n",
       "     max_redshift = 50.0\n",
       "   DarkEnergy: <DarkEnergyFluid>\n",
       "     w = -1.0\n",
       "     wa = 0.0\n",
       "     cs2 = 1.0\n",
       "     use_tabulated_w = False\n",
       "   NonLinearModel: <Halofit>\n",
       "     Min_kh_nonlinear = 0.005\n",
       "     halofit_version = mead2020\n",
       "     HMCode_A_baryon = 3.13\n",
       "     HMCode_eta_baryon = 0.603\n",
       "     HMCode_logT_AGN = 7.8\n",
       "   Accuracy: <AccuracyParams>\n",
       "     AccuracyBoost = 1.0\n",
       "     lSampleBoost = 1.0\n",
       "     lAccuracyBoost = 1.0\n",
       "     AccuratePolarization = True\n",
       "     AccurateBB = False\n",
       "     AccurateReionization = True\n",
       "     TimeStepBoost = 1.0\n",
       "     BackgroundTimeStepBoost = 1.0\n",
       "     IntTolBoost = 1.0\n",
       "     SourcekAccuracyBoost = 1.0\n",
       "     IntkAccuracyBoost = 1.0\n",
       "     TransferkBoost = 1.0\n",
       "     NonFlatIntAccuracyBoost = 1.0\n",
       "     BessIntBoost = 1.0\n",
       "     LensingBoost = 1.0\n",
       "     NonlinSourceBoost = 1.0\n",
       "     BesselBoost = 1.0\n",
       "     LimberBoost = 1.0\n",
       "     SourceLimberBoost = 1.0\n",
       "     KmaxBoost = 1.0\n",
       "     neutrino_q_boost = 1.0\n",
       "   SourceTerms: <SourceTermParams>\n",
       "     limber_windows = False\n",
       "     limber_phi_lmin = 100\n",
       "     counts_density = True\n",
       "     counts_redshift = True\n",
       "     counts_lensing = False\n",
       "     counts_velocity = True\n",
       "     counts_radial = False\n",
       "     counts_timedelay = True\n",
       "     counts_ISW = True\n",
       "     counts_potential = True\n",
       "     counts_evolve = False\n",
       "     line_phot_dipole = False\n",
       "     line_phot_quadrupole = False\n",
       "     line_basic = True\n",
       "     line_distortions = True\n",
       "     line_extra = False\n",
       "     line_reionization = False\n",
       "     use_21cm_mK = True\n",
       "   z_outputs = []\n",
       "   scalar_initial_condition = initial_adiabatic\n",
       "   InitialConditionVector = []\n",
       "   OutputNormalization = 1\n",
       "   Alens = 1.0\n",
       "   MassiveNuMethod = Nu_best\n",
       "   DoLateRadTruncation = True\n",
       "   Evolve_baryon_cs = False\n",
       "   Evolve_delta_xe = False\n",
       "   Evolve_delta_Ts = False\n",
       "   Do21cm = False\n",
       "   transfer_21cm_cl = False\n",
       "   Log_lvalues = False\n",
       "   use_cl_spline_template = True\n",
       "   SourceWindows = []\n",
       "   CustomSources: <CustomSources>\n",
       "     num_custom_sources = 0\n",
       "     c_source_func = None\n",
       "     custom_source_ell_scales = []\n",
       " ThermoDerivedParams = [13.393472718614833, 1089.9097768929903, 144.39658352704564, 1.0548975216141918, 13.688209571873074, 1059.9712391040462, 147.05165267088404, 0.14091942329330515, 0.16286672734091573, 3405.0807655334793, 0.010392645169901434, 0.8235767304528457, 0.4550846156307139]\n",
       " flat = True\n",
       " closed = False\n",
       " grhocrit = 1.7303933671745876e-07\n",
       " grhog = 8.254089497837408e-12\n",
       " grhor = 1.8745641255814026e-12\n",
       " grhob = 7.471267102391082e-09\n",
       " grhoc = 4.0091284982238e-08\n",
       " grhov = 1.2524937994572521e-07\n",
       " grhornomass = 3.806614884347302e-12\n",
       " grhok = 0.0\n",
       " taurst = 205.58261826488783\n",
       " dtaurec = 5.139565456622195\n",
       " taurend = 599.1026585608677\n",
       " tau_maxvis = 280.5976536796288\n",
       " adotrad = 2.1574685648044687e-06\n",
       " omega_de = 0.7238202730182345\n",
       " curv = 0.0\n",
       " curvature_radius = 1.0\n",
       " Ksign = 0.0\n",
       " tau0 = 13968.615077048265\n",
       " chi0 = 13968.615077048265\n",
       " scale = 1.0\n",
       " akthom = 3.891560286822974e-07\n",
       " fHe = 0.08188651114945204\n",
       " Nnow = 0.18957924192519182\n",
       " z_eq = 3405.0807655334793\n",
       " grhormass = [1.9033074421736505e-12, 0.0, 0.0, 0.0, 0.0]\n",
       " nu_masses = [356.53460787744757, 0.0, 0.0, 0.0, 0.0]\n",
       " num_transfer_redshifts = 1\n",
       " transfer_redshifts = []\n",
       " PK_redshifts_index = [0, 0, 0, 0, 0, 0, 0, ...]\n",
       " OnlyTransfers = False\n",
       " HasScalarTimeSources = False\n",
       " "
      ]
     },
     "execution_count": 2,
     "metadata": {},
     "output_type": "execute_result"
    }
   ],
   "source": [
    "pars = camb.CAMBparams()\n",
    "pars.set_cosmology(H0 = 72, ombh2 = .0223828, omch2 = 0.1201075, omk = 0, tau = 0.06)\n",
    "results = camb.get_background(pars)\n",
    "results"
   ]
  },
  {
   "cell_type": "code",
   "execution_count": 3,
   "id": "c21140d5",
   "metadata": {},
   "outputs": [
    {
     "data": {
      "text/plain": [
       "array([0.27777778, 0.11626657, 0.07250538, 0.0530627 , 0.04200167,\n",
       "       0.0348332 , 0.02979704, 0.02605898, 0.02317157, 0.02087279,\n",
       "       0.01899879, 0.01744171, 0.01612762, 0.01500403, 0.01403267,\n",
       "       0.01318494, 0.01243901, 0.01177791, 0.01118828, 0.0106594 ,\n",
       "       0.01018262, 0.00975082, 0.00935815, 0.0089997 , 0.00867135,\n",
       "       0.00836962, 0.00809153, 0.00783452, 0.00759639, 0.00737522,\n",
       "       0.00716936, 0.00697735, 0.00679789, 0.00662986, 0.00647226,\n",
       "       0.00632419, 0.00618487, 0.00605357, 0.00592966, 0.00581257,\n",
       "       0.00570179, 0.00559684, 0.00549729, 0.00540278, 0.00531294,\n",
       "       0.00522745, 0.00514604, 0.00506842, 0.00499435, 0.00492362])"
      ]
     },
     "execution_count": 3,
     "metadata": {},
     "output_type": "execute_result"
    }
   ],
   "source": [
    "# check this implementation agrees with results from standard CAMB lum distance function\n",
    "Hubble_param = 72\n",
    "omega_m = .3\n",
    "omega_lambda = .7\n",
    "\n",
    "def func( z_prime ):\n",
    "    return 1 / np.sqrt( z_prime ) # issue because math sqrt fctn converts array into scalar, use np.sqrt\n",
    "\n",
    "def func2( z_prime ):\n",
    "    return (omega_m * (1 + a * z_prime)**3 + omega_lambda)\n",
    "\n",
    "def integrand( z_prime ):\n",
    "    return func(func2( z_prime ))\n",
    "\n",
    "a = np.array(range(0,50)) # controls number of points integrand is evaluated at\n",
    "z_prime = np.linspace(0,4).reshape(-1,1)\n",
    "integral = simps(integrand(z_prime), z_prime, axis=0)\n",
    "\n",
    "\n",
    "def lum_dist( z ):\n",
    "    constant_term = (1 + z) / Hubble_param\n",
    "    return constant_term * integral\n",
    "\n",
    "lum_dist(4)"
   ]
  },
  {
   "cell_type": "code",
   "execution_count": 8,
   "id": "97580510",
   "metadata": {},
   "outputs": [
    {
     "data": {
      "text/plain": [
       "Text(0.5, 1.0, 'Ratio of alpha to standard luminosity distances')"
      ]
     },
     "execution_count": 8,
     "metadata": {},
     "output_type": "execute_result"
    },
    {
     "data": {
      "image/png": "[encoded data removed]",
      "text/plain": [
       "<Figure size 432x288 with 1 Axes>"
      ]
     },
     "metadata": {
      "needs_background": "light"
     },
     "output_type": "display_data"
    }
   ],
   "source": [
    "# follows luminosity distance implementation above, but includes alpha factor contribution\n",
    "Hubble_param = 72\n",
    "omega_m = .3\n",
    "omega_lambda = .7\n",
    "\n",
    "def func( z_prime, alpha ):\n",
    "    return ((1 + z_prime)**(alpha-2)) / np.sqrt( z_prime ) # issue because math sqrt fctn converts array into scalar, use np.sqrt\n",
    "\n",
    "def func2( z_prime ):\n",
    "    return (omega_m * (1 + n * z_prime)**3 + omega_lambda)\n",
    "\n",
    "def integrand( z_prime, alpha ):\n",
    "    return func(func2( z_prime ), alpha)\n",
    "\n",
    "n = np.array(range(0,50)) # controls number of points integrand is evaluated at\n",
    "\n",
    "def alpha_dist( z, alpha ):\n",
    "    z_prime = np.linspace(0,z).reshape(-1,1)\n",
    "    integral = simps(integrand(z_prime, alpha), z_prime, axis=0)\n",
    "    constant_term = (1 + z)**(1-alpha) / Hubble_param\n",
    "    return constant_term * integral\n",
    "\n",
    "# separate using *args\n",
    "\n",
    "z = 4\n",
    "results = []\n",
    "\n",
    "alpha_values = np.arange(0, 4.5, .5) # alpha values end at 4, per GR tests paper specs\n",
    "for a in alpha_values:\n",
    "    alpha_lum_ratio = (alpha_dist(z, a) / lum_dist(z))[1]\n",
    "    results.append(alpha_lum_ratio)\n",
    "\n",
    "plt.plot(np.hstack(alpha_values), np.hstack(results))\n",
    "plt.xlabel(r'$\\alpha$')\n",
    "plt.ylabel(r'$D_{\\alpha} / D_L {Mpc}$')\n",
    "plt.title('Ratio of alpha to standard luminosity distances')"
   ]
  },
  {
   "cell_type": "code",
   "execution_count": 5,
   "id": "0c739c20",
   "metadata": {},
   "outputs": [],
   "source": [
    "# z_prime"
   ]
  },
  {
   "cell_type": "code",
   "execution_count": 9,
   "id": "aba74950",
   "metadata": {},
   "outputs": [
    {
     "ename": "AttributeError",
     "evalue": "'list' object has no attribute 'luminosity_distance'",
     "output_type": "error",
     "traceback": [
      "\u001b[0;31m---------------------------------------------------------------------------\u001b[0m",
      "\u001b[0;31mAttributeError\u001b[0m                            Traceback (most recent call last)",
      "\u001b[0;32m/var/folders/w8/4wp4120x0jx_klvhhht7bxjc0000gn/T/ipykernel_32803/2620999972.py\u001b[0m in \u001b[0;36m<module>\u001b[0;34m\u001b[0m\n\u001b[1;32m      1\u001b[0m \u001b[0;31m# calculate luminosity distances for redshifts 0 to 4\u001b[0m\u001b[0;34m\u001b[0m\u001b[0;34m\u001b[0m\u001b[0;34m\u001b[0m\u001b[0m\n\u001b[1;32m      2\u001b[0m \u001b[0mz\u001b[0m \u001b[0;34m=\u001b[0m \u001b[0mnp\u001b[0m\u001b[0;34m.\u001b[0m\u001b[0mlinspace\u001b[0m\u001b[0;34m(\u001b[0m\u001b[0;36m0\u001b[0m\u001b[0;34m,\u001b[0m\u001b[0;36m4\u001b[0m\u001b[0;34m)\u001b[0m\u001b[0;34m\u001b[0m\u001b[0;34m\u001b[0m\u001b[0m\n\u001b[0;32m----> 3\u001b[0;31m \u001b[0mcamb_lum_dist\u001b[0m \u001b[0;34m=\u001b[0m \u001b[0mresults\u001b[0m\u001b[0;34m.\u001b[0m\u001b[0mluminosity_distance\u001b[0m\u001b[0;34m(\u001b[0m\u001b[0mz\u001b[0m\u001b[0;34m)\u001b[0m\u001b[0;34m\u001b[0m\u001b[0;34m\u001b[0m\u001b[0m\n\u001b[0m\u001b[1;32m      4\u001b[0m \u001b[0mcamb_lum_dist\u001b[0m\u001b[0;34m\u001b[0m\u001b[0;34m\u001b[0m\u001b[0m\n",
      "\u001b[0;31mAttributeError\u001b[0m: 'list' object has no attribute 'luminosity_distance'"
     ]
    }
   ],
   "source": [
    "# calculate luminosity distances for redshifts 0 to 4\n",
    "z = np.linspace(0,4)\n",
    "camb_lum_dist = results.luminosity_distance(z)\n",
    "camb_lum_dist = results.luminosity_distance(z)\n",
    "camb_lum_dist"
   ]
  },
  {
   "cell_type": "code",
   "execution_count": null,
   "id": "18c64e6d",
   "metadata": {},
   "outputs": [],
   "source": [
    "# z"
   ]
  },
  {
   "cell_type": "code",
   "execution_count": null,
   "id": "ae999e80",
   "metadata": {},
   "outputs": [],
   "source": [
    "plt.plot(z, camb_lum_dist)\n",
    "plt.xlabel('$z$')\n",
    "plt.ylabel(r'$D_L /\\rm{Mpc}$')\n",
    "plt.title('Luminosity distance')\n",
    "plt.ylim([0,40000])\n",
    "plt.xlim([0,4]);"
   ]
  },
  {
   "cell_type": "code",
   "execution_count": null,
   "id": "d908d47e",
   "metadata": {},
   "outputs": [],
   "source": [
    "len(lum_dist(4))"
   ]
  },
  {
   "cell_type": "code",
   "execution_count": null,
   "id": "4256bf62",
   "metadata": {},
   "outputs": [],
   "source": [
    "len(camb_Dl)"
   ]
  },
  {
   "cell_type": "code",
   "execution_count": null,
   "id": "e961a531",
   "metadata": {
    "scrolled": true
   },
   "outputs": [],
   "source": []
  },
  {
   "cell_type": "code",
   "execution_count": null,
   "id": "f8a825c5",
   "metadata": {},
   "outputs": [],
   "source": [
    "xhi_e = 1\n",
    "t_emiss = 2\n",
    "t_arriv = 15\n",
    "a_t0 = 1\n",
    "z = np.linspace(0,4)\n",
    "a_t = a_t0 / (1 + z)\n",
    "\n",
    "term_I = quad(a_t, t_emiss, t_arriv)"
   ]
  },
  {
   "cell_type": "code",
   "execution_count": null,
   "id": "729a09a2",
   "metadata": {},
   "outputs": [],
   "source": []
  }
 ],
 "metadata": {
  "kernelspec": {
   "display_name": "Python 3 (ipykernel)",
   "language": "python",
   "name": "python3"
  },
  "language_info": {
   "codemirror_mode": {
    "name": "ipython",
    "version": 3
   },
   "file_extension": ".py",
   "mimetype": "text/x-python",
   "name": "python",
   "nbconvert_exporter": "python",
   "pygments_lexer": "ipython3",
   "version": "3.9.6"
  }
 },
 "nbformat": 4,
 "nbformat_minor": 5
}
