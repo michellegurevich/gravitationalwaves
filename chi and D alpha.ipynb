{
 "cells": [
  {
   "cell_type": "code",
   "execution_count": 1,
   "id": "9d580350",
   "metadata": {},
   "outputs": [],
   "source": [
    "import sys, platform, os\n",
    "import matplotlib\n",
    "from matplotlib import pyplot as plt\n",
    "from mpl_toolkits.axes_grid1 import make_axes_locatable\n",
    "import numpy as np\n",
    "import camb\n",
    "from camb import model, initialpower\n",
    "import math\n",
    "from scipy.integrate import simps as simps"
   ]
  },
  {
   "cell_type": "code",
   "execution_count": 2,
   "id": "4dab1f18",
   "metadata": {},
   "outputs": [],
   "source": [
    "pars = camb.CAMBparams()\n",
    "pars.set_cosmology(H0 = 72)\n",
    "results = camb.get_background(pars)"
   ]
  },
  {
   "cell_type": "code",
   "execution_count": null,
   "id": "cf32be2f",
   "metadata": {},
   "outputs": [],
   "source": [
    "def alpha_distance(z):\n",
    "    some code here    \n",
    "    return D_alpha"
   ]
  },
  {
   "cell_type": "code",
   "execution_count": 13,
   "id": "a7ce22bf",
   "metadata": {},
   "outputs": [
    {
     "data": {
      "text/plain": [
       "array([0.27777778, 0.11626657, 0.07250538, 0.0530627 , 0.04200167,\n",
       "       0.0348332 , 0.02979704, 0.02605898, 0.02317157, 0.02087279,\n",
       "       0.01899879, 0.01744171, 0.01612762, 0.01500403, 0.01403267,\n",
       "       0.01318494, 0.01243901, 0.01177791, 0.01118828, 0.0106594 ,\n",
       "       0.01018262, 0.00975082, 0.00935815, 0.0089997 , 0.00867135,\n",
       "       0.00836962, 0.00809153, 0.00783452, 0.00759639, 0.00737522,\n",
       "       0.00716936, 0.00697735, 0.00679789, 0.00662986, 0.00647226,\n",
       "       0.00632419, 0.00618487, 0.00605357, 0.00592966, 0.00581257,\n",
       "       0.00570179, 0.00559684, 0.00549729, 0.00540278, 0.00531294,\n",
       "       0.00522745, 0.00514604, 0.00506842, 0.00499435, 0.00492362])"
      ]
     },
     "execution_count": 13,
     "metadata": {},
     "output_type": "execute_result"
    }
   ],
   "source": [
    "# check this implementation agrees with results from standard CAMB lum distance function\n",
    "Hubble_param = 72\n",
    "omega_m = .3\n",
    "omega_lambda = .7\n",
    "\n",
    "def func( z_prime ):\n",
    "    return 1 / np.sqrt( z_prime ) # issue because math sqrt fctn converts array into scalar, use np.sqrt\n",
    "\n",
    "def func2( z_prime ):\n",
    "    return (omega_m * (1 + a * z_prime)**3 + omega_lambda)\n",
    "\n",
    "def integrand( z_prime ):\n",
    "    return func(func2( z_prime ))\n",
    "\n",
    "a = np.array(range(0,50)) # controls number of points integrand is evaluated at\n",
    "z_prime = np.linspace(0,4).reshape(-1,1)\n",
    "integral = simps(integrand(z_prime), z_prime, axis=0)\n",
    "\n",
    "\n",
    "def lum_dist( z ):\n",
    "    constant_term = (1 + z) / Hubble_param\n",
    "    return constant_term * integral\n",
    "\n",
    "lum_dist(4)"
   ]
  },
  {
   "cell_type": "code",
   "execution_count": 12,
   "id": "fbf1ec7b",
   "metadata": {},
   "outputs": [
    {
     "data": {
      "text/plain": [
       "array([    0.        ,   361.33350322,   763.20244116,  1202.18060569,\n",
       "        1674.98880621,  2178.54672677,  2710.00518535,  3266.76141467,\n",
       "        3846.4609177 ,  4446.98959139,  5066.45944702,  5703.19064644,\n",
       "        6355.69190817,  7022.64072766,  7702.86435405,  8395.32208093,\n",
       "        9099.08913283,  9813.34224122, 10537.34688413, 11270.44609213,\n",
       "       12012.05068687, 12761.63080278, 13518.70854242, 14282.85162268,\n",
       "       15053.66788097, 15830.80052419, 16613.92401673, 17402.74051739,\n",
       "       18196.9767872 , 18996.38150086, 19800.72290461, 20609.78677124,\n",
       "       21423.37461058, 22241.3020998 , 23063.39770311, 23889.50145516,\n",
       "       24719.46388591, 25553.14506827, 26390.41377245, 27231.14671309,\n",
       "       28075.22787757, 28922.54792517, 29773.00364844, 30626.49748925,\n",
       "       31482.93710297, 32342.23496512, 33204.30801567, 34069.0773367 ,\n",
       "       34936.46785961, 35806.40809881])"
      ]
     },
     "execution_count": 12,
     "metadata": {},
     "output_type": "execute_result"
    }
   ],
   "source": [
    "# calculate luminosity distances for redshifts 0 to 4\n",
    "z = np.linspace(0,4)\n",
    "camb_Dl = results.luminosity_distance(z)\n",
    "camb_Dl"
   ]
  },
  {
   "cell_type": "code",
   "execution_count": 10,
   "id": "2f0c080c",
   "metadata": {},
   "outputs": [
    {
     "data": {
      "text/plain": [
       "50"
      ]
     },
     "execution_count": 10,
     "metadata": {},
     "output_type": "execute_result"
    }
   ],
   "source": [
    "len(lum_dist(4))\n"
   ]
  },
  {
   "cell_type": "code",
   "execution_count": 11,
   "id": "a45f8c0c",
   "metadata": {},
   "outputs": [
    {
     "data": {
      "text/plain": [
       "50"
      ]
     },
     "execution_count": 11,
     "metadata": {},
     "output_type": "execute_result"
    }
   ],
   "source": [
    "len(camb_Dl)"
   ]
  }
 ],
 "metadata": {
  "kernelspec": {
   "display_name": "Python 3 (ipykernel)",
   "language": "python",
   "name": "python3"
  },
  "language_info": {
   "codemirror_mode": {
    "name": "ipython",
    "version": 3
   },
   "file_extension": ".py",
   "mimetype": "text/x-python",
   "name": "python",
   "nbconvert_exporter": "python",
   "pygments_lexer": "ipython3",
   "version": "3.9.6"
  }
 },
 "nbformat": 4,
 "nbformat_minor": 5
}
